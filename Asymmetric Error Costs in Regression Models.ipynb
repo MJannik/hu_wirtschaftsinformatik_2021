{
  "nbformat": 4,
  "nbformat_minor": 0,
  "metadata": {
    "colab": {
      "name": "Calculation.ipynb",
      "provenance": [],
      "collapsed_sections": [
        "BDDwtz5y-d1W",
        "brGGQhjF_j8B",
        "ys60SJnAeWDi"
      ],
      "include_colab_link": true
    },
    "kernelspec": {
      "display_name": "Python 3",
      "language": "python",
      "name": "python3"
    },
    "language_info": {
      "codemirror_mode": {
        "name": "ipython",
        "version": 3
      },
      "file_extension": ".py",
      "mimetype": "text/x-python",
      "name": "python",
      "nbconvert_exporter": "python",
      "pygments_lexer": "ipython3",
      "version": "3.7.6"
    }
  },
  "cells": [
    {
      "cell_type": "markdown",
      "metadata": {
        "id": "view-in-github",
        "colab_type": "text"
      },
      "source": [
        "<a href=\"https://colab.research.google.com/github/MJannik/hu_wirtschaftsinformatik_2021/blob/main/Asymmetric%20Error%20Costs%20in%20Regression%20Models.ipynb\" target=\"_parent\"><img src=\"https://colab.research.google.com/assets/colab-badge.svg\" alt=\"Open In Colab\"/></a>"
      ]
    },
    {
      "cell_type": "markdown",
      "metadata": {
        "id": "WpXYwaTzgVqm"
      },
      "source": [
        "# Asymmetric Error Costs in Regression Models\n",
        "\n",
        "## Seminar: Bachelor Seminar Wirtschaftsinformatik\n",
        "\n",
        "\n",
        "\n"
      ]
    },
    {
      "cell_type": "markdown",
      "metadata": {
        "id": "Vm94H4oQgCcp"
      },
      "source": [
        "This Cell imports important libraries like \"pandas\" or \"numphy\". \n",
        "\n",
        "It also asks for permission to connect to your GDrive. After running the cell, you have to click on the link and insert the code."
      ]
    },
    {
      "cell_type": "code",
      "metadata": {
        "id": "gZil6i4J3EN9",
        "colab": {
          "base_uri": "https://localhost:8080/"
        },
        "outputId": "69463f62-21c5-4cfb-f253-a11d38073d7e"
      },
      "source": [
        "import pandas as pd\n",
        "import numpy as np\n",
        "import statsmodels.api as sm\n",
        "import statsmodels.stats.api as sms\n",
        "from sklearn.preprocessing import OrdinalEncoder\n",
        "import matplotlib.pyplot as plt\n",
        "import seaborn as sns\n",
        "from sklearn.preprocessing import StandardScaler\n",
        "\n",
        "from google.colab import drive\n",
        "drive.mount('/content/drive')"
      ],
      "execution_count": null,
      "outputs": [
        {
          "output_type": "stream",
          "text": [
            "/usr/local/lib/python3.7/dist-packages/statsmodels/tools/_testing.py:19: FutureWarning: pandas.util.testing is deprecated. Use the functions in the public API at pandas.testing instead.\n",
            "  import pandas.util.testing as tm\n"
          ],
          "name": "stderr"
        },
        {
          "output_type": "stream",
          "text": [
            "Drive already mounted at /content/drive; to attempt to forcibly remount, call drive.mount(\"/content/drive\", force_remount=True).\n"
          ],
          "name": "stdout"
        }
      ]
    },
    {
      "cell_type": "markdown",
      "metadata": {
        "id": "XGqs1ZUdfQTF"
      },
      "source": [
        "The next cell imports the car data into this notebook. \n",
        "\n",
        "**IMPORTANT:** Before running the next cell, go to the \"Bachelorseminar Wirtschaftsinformatik\" folder in GDrive and click \"Add shortcut to Drive\". This has to be done because Google Collab can only acces folders on YOUR Drive and not on a shared Drive."
      ]
    },
    {
      "cell_type": "code",
      "metadata": {
        "id": "cjeSCVEN3EOI"
      },
      "source": [
        "data = pd.read_csv(\"/content/drive/MyDrive/Bachelorseminar Wirtschaftsinformatik/semWI_usedCar.csv\")"
      ],
      "execution_count": null,
      "outputs": []
    },
    {
      "cell_type": "markdown",
      "metadata": {
        "id": "uhqwbATeiI4J"
      },
      "source": [
        "# Data Cleansing\n",
        "- Missing values\n",
        "- Handle Outliers\n",
        "- Necessary Transform"
      ]
    },
    {
      "cell_type": "code",
      "metadata": {
        "id": "TzTRvGWQpbxG"
      },
      "source": [
        "# remove engine sizes 0\n",
        "df = data\n",
        "df = df[df['engineSize'] != 0 ]\n",
        "\n",
        "# remove observation with year 2060\n",
        "df = df[df['year'] != 2060 ]\n",
        "df['carAge'] = 2020 - df['year']"
      ],
      "execution_count": null,
      "outputs": []
    },
    {
      "cell_type": "markdown",
      "metadata": {
        "id": "4RdjedPZwZRD"
      },
      "source": [
        "Apply Box-Cox transformation on the variable price."
      ]
    },
    {
      "cell_type": "code",
      "metadata": {
        "id": "1e8Pz71o9DkP"
      },
      "source": [
        "from sklearn.preprocessing import PowerTransformer\n",
        "\n",
        "price_list = df[['price']]\n",
        "\n",
        "pt = PowerTransformer(method='box-cox')\n",
        "pt.fit(price_list)\n",
        "price_list_boxcox = pt.transform(price_list)\n",
        "\n",
        "df['price'] = price_list_boxcox\n",
        "\n",
        "lambda_ = pt.lambdas_[0] "
      ],
      "execution_count": null,
      "outputs": []
    },
    {
      "cell_type": "markdown",
      "metadata": {
        "id": "jkGmWsAywiqK"
      },
      "source": [
        "Apply dummy transformation on the variables brand"
      ]
    },
    {
      "cell_type": "code",
      "metadata": {
        "id": "ojmx8vRqSMoU"
      },
      "source": [
        "df_dummies = pd.get_dummies(df, columns=['brand', 'transmission', 'fuelType'])\n",
        "df_dummies = df_dummies.drop(['id', 'model', 'year'], axis=1)\n",
        "\n",
        "df_dummies = df_dummies.drop(['brand_merc', 'fuelType_Electric','fuelType_Other', 'transmission_Other'], axis=1)\n",
        "df = df_dummies"
      ],
      "execution_count": null,
      "outputs": []
    },
    {
      "cell_type": "markdown",
      "metadata": {
        "id": "15LZU0QbgbbE"
      },
      "source": [
        "## Data Preperation\n"
      ]
    },
    {
      "cell_type": "markdown",
      "metadata": {
        "id": "uTNnfGGKg6XF"
      },
      "source": [
        "This cell splits the data into training, validation and test set. For this, it uses the numphy function split."
      ]
    },
    {
      "cell_type": "code",
      "metadata": {
        "id": "PgC85dUi3EOJ"
      },
      "source": [
        "train, validate, test = \\\n",
        "              np.split(df.sample(frac=1, random_state=42), \n",
        "                       [int(.6*len(df)), int(.8*len(df))])\n",
        "              \n",
        "X_train = train.drop(['price'], axis=1)\n",
        "y_train = train[['price']]\n",
        "\n",
        "X_validate = validate.drop(['price'], axis=1)\n",
        "y_validate = validate[['price']]\n",
        "\n",
        "X_test = test.drop(['price'], axis=1)\n",
        "y_test = test[['price']]"
      ],
      "execution_count": null,
      "outputs": []
    },
    {
      "cell_type": "markdown",
      "metadata": {
        "id": "V8oX7UVJhjIo"
      },
      "source": [
        "## Estimate Model\n",
        "This cell uses the statsmodels library to run an OLS regression on the training dataset. Below you can see the results of the regression."
      ]
    },
    {
      "cell_type": "code",
      "metadata": {
        "colab": {
          "base_uri": "https://localhost:8080/",
          "height": 812
        },
        "id": "eQbVR2Xh3EON",
        "outputId": "aed16dd5-c25d-4625-e14b-8b5ae19d4da7"
      },
      "source": [
        "model = sm.OLS(y_train, X_train).fit()\n",
        "predictions = model.predict(X_train) # make the predictions by the model\n",
        "\n",
        "# Print out the statistics\n",
        "model.summary()"
      ],
      "execution_count": null,
      "outputs": [
        {
          "output_type": "execute_result",
          "data": {
            "text/html": [
              "<table class=\"simpletable\">\n",
              "<caption>OLS Regression Results</caption>\n",
              "<tr>\n",
              "  <th>Dep. Variable:</th>          <td>price</td>      <th>  R-squared (uncentered):</th>      <td>   0.886</td> \n",
              "</tr>\n",
              "<tr>\n",
              "  <th>Model:</th>                   <td>OLS</td>       <th>  Adj. R-squared (uncentered):</th> <td>   0.886</td> \n",
              "</tr>\n",
              "<tr>\n",
              "  <th>Method:</th>             <td>Least Squares</td>  <th>  F-statistic:       </th>          <td>2.428e+04</td>\n",
              "</tr>\n",
              "<tr>\n",
              "  <th>Date:</th>             <td>Mon, 30 Aug 2021</td> <th>  Prob (F-statistic):</th>           <td>  0.00</td>  \n",
              "</tr>\n",
              "<tr>\n",
              "  <th>Time:</th>                 <td>18:47:52</td>     <th>  Log-Likelihood:    </th>          <td> -19835.</td> \n",
              "</tr>\n",
              "<tr>\n",
              "  <th>No. Observations:</th>      <td> 59347</td>      <th>  AIC:               </th>          <td>3.971e+04</td>\n",
              "</tr>\n",
              "<tr>\n",
              "  <th>Df Residuals:</th>          <td> 59328</td>      <th>  BIC:               </th>          <td>3.988e+04</td>\n",
              "</tr>\n",
              "<tr>\n",
              "  <th>Df Model:</th>              <td>    19</td>      <th>                     </th>              <td> </td>    \n",
              "</tr>\n",
              "<tr>\n",
              "  <th>Covariance Type:</th>      <td>nonrobust</td>    <th>                     </th>              <td> </td>    \n",
              "</tr>\n",
              "</table>\n",
              "<table class=\"simpletable\">\n",
              "<tr>\n",
              "             <td></td>               <th>coef</th>     <th>std err</th>      <th>t</th>      <th>P>|t|</th>  <th>[0.025</th>    <th>0.975]</th>  \n",
              "</tr>\n",
              "<tr>\n",
              "  <th>mileage</th>                <td>-9.073e-06</td> <td> 1.03e-07</td> <td>  -87.690</td> <td> 0.000</td> <td>-9.28e-06</td> <td>-8.87e-06</td>\n",
              "</tr>\n",
              "<tr>\n",
              "  <th>tax</th>                    <td>    0.0002</td> <td> 2.69e-05</td> <td>    8.405</td> <td> 0.000</td> <td>    0.000</td> <td>    0.000</td>\n",
              "</tr>\n",
              "<tr>\n",
              "  <th>mpg</th>                    <td>   -0.0084</td> <td>    0.000</td> <td>  -55.595</td> <td> 0.000</td> <td>   -0.009</td> <td>   -0.008</td>\n",
              "</tr>\n",
              "<tr>\n",
              "  <th>engineSize</th>             <td>    0.6713</td> <td>    0.004</td> <td>  161.933</td> <td> 0.000</td> <td>    0.663</td> <td>    0.679</td>\n",
              "</tr>\n",
              "<tr>\n",
              "  <th>carAge</th>                 <td>   -0.2142</td> <td>    0.001</td> <td> -211.930</td> <td> 0.000</td> <td>   -0.216</td> <td>   -0.212</td>\n",
              "</tr>\n",
              "<tr>\n",
              "  <th>brand_audi</th>             <td>    0.0503</td> <td>    0.006</td> <td>    8.561</td> <td> 0.000</td> <td>    0.039</td> <td>    0.062</td>\n",
              "</tr>\n",
              "<tr>\n",
              "  <th>brand_bmw</th>              <td>   -0.1533</td> <td>    0.006</td> <td>  -26.592</td> <td> 0.000</td> <td>   -0.165</td> <td>   -0.142</td>\n",
              "</tr>\n",
              "<tr>\n",
              "  <th>brand_ford</th>             <td>   -0.4191</td> <td>    0.006</td> <td>  -71.305</td> <td> 0.000</td> <td>   -0.431</td> <td>   -0.408</td>\n",
              "</tr>\n",
              "<tr>\n",
              "  <th>brand_hyundi</th>           <td>   -0.6633</td> <td>    0.008</td> <td>  -83.699</td> <td> 0.000</td> <td>   -0.679</td> <td>   -0.648</td>\n",
              "</tr>\n",
              "<tr>\n",
              "  <th>brand_skoda</th>            <td>   -0.4786</td> <td>    0.007</td> <td>  -67.095</td> <td> 0.000</td> <td>   -0.493</td> <td>   -0.465</td>\n",
              "</tr>\n",
              "<tr>\n",
              "  <th>brand_toyota</th>           <td>   -0.7243</td> <td>    0.008</td> <td>  -93.990</td> <td> 0.000</td> <td>   -0.739</td> <td>   -0.709</td>\n",
              "</tr>\n",
              "<tr>\n",
              "  <th>brand_vauxhall</th>         <td>   -0.8054</td> <td>    0.006</td> <td> -128.188</td> <td> 0.000</td> <td>   -0.818</td> <td>   -0.793</td>\n",
              "</tr>\n",
              "<tr>\n",
              "  <th>brand_vw</th>               <td>   -0.2570</td> <td>    0.006</td> <td>  -45.332</td> <td> 0.000</td> <td>   -0.268</td> <td>   -0.246</td>\n",
              "</tr>\n",
              "<tr>\n",
              "  <th>transmission_Automatic</th> <td>    1.0376</td> <td>    0.033</td> <td>   31.320</td> <td> 0.000</td> <td>    0.973</td> <td>    1.103</td>\n",
              "</tr>\n",
              "<tr>\n",
              "  <th>transmission_Manual</th>    <td>    0.8096</td> <td>    0.034</td> <td>   24.093</td> <td> 0.000</td> <td>    0.744</td> <td>    0.875</td>\n",
              "</tr>\n",
              "<tr>\n",
              "  <th>transmission_Semi-Auto</th> <td>    1.0597</td> <td>    0.033</td> <td>   31.752</td> <td> 0.000</td> <td>    0.994</td> <td>    1.125</td>\n",
              "</tr>\n",
              "<tr>\n",
              "  <th>fuelType_Diesel</th>        <td>   -0.3637</td> <td>    0.028</td> <td>  -12.827</td> <td> 0.000</td> <td>   -0.419</td> <td>   -0.308</td>\n",
              "</tr>\n",
              "<tr>\n",
              "  <th>fuelType_Hybrid</th>        <td>    0.2589</td> <td>    0.029</td> <td>    8.922</td> <td> 0.000</td> <td>    0.202</td> <td>    0.316</td>\n",
              "</tr>\n",
              "<tr>\n",
              "  <th>fuelType_Petrol</th>        <td>   -0.4946</td> <td>    0.029</td> <td>  -17.321</td> <td> 0.000</td> <td>   -0.551</td> <td>   -0.439</td>\n",
              "</tr>\n",
              "</table>\n",
              "<table class=\"simpletable\">\n",
              "<tr>\n",
              "  <th>Omnibus:</th>       <td>5785.338</td> <th>  Durbin-Watson:     </th> <td>   2.002</td> \n",
              "</tr>\n",
              "<tr>\n",
              "  <th>Prob(Omnibus):</th>  <td> 0.000</td>  <th>  Jarque-Bera (JB):  </th> <td>39922.216</td>\n",
              "</tr>\n",
              "<tr>\n",
              "  <th>Skew:</th>           <td> 0.193</td>  <th>  Prob(JB):          </th> <td>    0.00</td> \n",
              "</tr>\n",
              "<tr>\n",
              "  <th>Kurtosis:</th>       <td> 6.999</td>  <th>  Cond. No.          </th> <td>1.65e+06</td> \n",
              "</tr>\n",
              "</table><br/><br/>Warnings:<br/>[1] Standard Errors assume that the covariance matrix of the errors is correctly specified.<br/>[2] The condition number is large, 1.65e+06. This might indicate that there are<br/>strong multicollinearity or other numerical problems."
            ],
            "text/plain": [
              "<class 'statsmodels.iolib.summary.Summary'>\n",
              "\"\"\"\n",
              "                                 OLS Regression Results                                \n",
              "=======================================================================================\n",
              "Dep. Variable:                  price   R-squared (uncentered):                   0.886\n",
              "Model:                            OLS   Adj. R-squared (uncentered):              0.886\n",
              "Method:                 Least Squares   F-statistic:                          2.428e+04\n",
              "Date:                Mon, 30 Aug 2021   Prob (F-statistic):                        0.00\n",
              "Time:                        18:47:52   Log-Likelihood:                         -19835.\n",
              "No. Observations:               59347   AIC:                                  3.971e+04\n",
              "Df Residuals:                   59328   BIC:                                  3.988e+04\n",
              "Df Model:                          19                                                  \n",
              "Covariance Type:            nonrobust                                                  \n",
              "==========================================================================================\n",
              "                             coef    std err          t      P>|t|      [0.025      0.975]\n",
              "------------------------------------------------------------------------------------------\n",
              "mileage                -9.073e-06   1.03e-07    -87.690      0.000   -9.28e-06   -8.87e-06\n",
              "tax                        0.0002   2.69e-05      8.405      0.000       0.000       0.000\n",
              "mpg                       -0.0084      0.000    -55.595      0.000      -0.009      -0.008\n",
              "engineSize                 0.6713      0.004    161.933      0.000       0.663       0.679\n",
              "carAge                    -0.2142      0.001   -211.930      0.000      -0.216      -0.212\n",
              "brand_audi                 0.0503      0.006      8.561      0.000       0.039       0.062\n",
              "brand_bmw                 -0.1533      0.006    -26.592      0.000      -0.165      -0.142\n",
              "brand_ford                -0.4191      0.006    -71.305      0.000      -0.431      -0.408\n",
              "brand_hyundi              -0.6633      0.008    -83.699      0.000      -0.679      -0.648\n",
              "brand_skoda               -0.4786      0.007    -67.095      0.000      -0.493      -0.465\n",
              "brand_toyota              -0.7243      0.008    -93.990      0.000      -0.739      -0.709\n",
              "brand_vauxhall            -0.8054      0.006   -128.188      0.000      -0.818      -0.793\n",
              "brand_vw                  -0.2570      0.006    -45.332      0.000      -0.268      -0.246\n",
              "transmission_Automatic     1.0376      0.033     31.320      0.000       0.973       1.103\n",
              "transmission_Manual        0.8096      0.034     24.093      0.000       0.744       0.875\n",
              "transmission_Semi-Auto     1.0597      0.033     31.752      0.000       0.994       1.125\n",
              "fuelType_Diesel           -0.3637      0.028    -12.827      0.000      -0.419      -0.308\n",
              "fuelType_Hybrid            0.2589      0.029      8.922      0.000       0.202       0.316\n",
              "fuelType_Petrol           -0.4946      0.029    -17.321      0.000      -0.551      -0.439\n",
              "==============================================================================\n",
              "Omnibus:                     5785.338   Durbin-Watson:                   2.002\n",
              "Prob(Omnibus):                  0.000   Jarque-Bera (JB):            39922.216\n",
              "Skew:                           0.193   Prob(JB):                         0.00\n",
              "Kurtosis:                       6.999   Cond. No.                     1.65e+06\n",
              "==============================================================================\n",
              "\n",
              "Warnings:\n",
              "[1] Standard Errors assume that the covariance matrix of the errors is correctly specified.\n",
              "[2] The condition number is large, 1.65e+06. This might indicate that there are\n",
              "strong multicollinearity or other numerical problems.\n",
              "\"\"\""
            ]
          },
          "metadata": {},
          "execution_count": 9
        }
      ]
    },
    {
      "cell_type": "markdown",
      "metadata": {
        "id": "hoLCpOHqsmhZ"
      },
      "source": [
        "## Verifying the 5 key assumptions\n",
        "\n",
        "Those five test verify the 5 key assumptions of our regression model\n",
        "\n",
        "Source: https://towardsdatascience.com/perform-regression-diagnostics-and-tackle-uncertainties-of-linear-models-1372a03b1f56 "
      ]
    },
    {
      "cell_type": "markdown",
      "metadata": {
        "id": "1ClzouNBtMYM"
      },
      "source": [
        "### 1. Linearity\n",
        "\n",
        "To confirm linearity we can use: i) Harvey-Collier multiplier test ii) Comparison of the Observed vs. Predicted values iii) Studentized residuals vs Fitted values"
      ]
    },
    {
      "cell_type": "code",
      "metadata": {
        "colab": {
          "base_uri": "https://localhost:8080/",
          "height": 278
        },
        "id": "h3T-dM_HvsnQ",
        "outputId": "64d442e7-c72f-48bc-d92b-36b678370b32"
      },
      "source": [
        "## observed vs predicted values\n",
        "\n",
        "# Plot predicted values vs. Real values\n",
        "observed_vs_predicted = pd.DataFrame(columns = ['predicted_price', 'price'])\n",
        "observed_vs_predicted[\"predicted_price\"] = model.predict(X_train)\n",
        "observed_vs_predicted[\"price\"] = y_train\n",
        "\n",
        "X_plot = [observed_vs_predicted['price'].min(), observed_vs_predicted['price'].max()]\n",
        "\n",
        "ax = sns.scatterplot(x=\"price\", y=\"predicted_price\", data=observed_vs_predicted)\n",
        "ax.set(xlabel='observed_price', ylabel='predicted_sales')\n",
        "plt.plot(X_plot, X_plot, color='r')\n",
        "plt.show()\n",
        "\n",
        "## We should see that the data is symmetrically distributed along the red diagonal with a roughly constant variance. \n",
        "## For us this is not the case..."
      ],
      "execution_count": 50,
      "outputs": [
        {
          "output_type": "display_data",
          "data": {
            "image/png": "[encoded data removed]",
            "text/plain": [
              "<Figure size 432x288 with 1 Axes>"
            ]
          },
          "metadata": {
            "needs_background": "light"
          }
        }
      ]
    },
    {
      "cell_type": "code",
      "metadata": {
        "colab": {
          "base_uri": "https://localhost:8080/",
          "height": 294
        },
        "id": "R6nv5ObhzxhA",
        "outputId": "69535b0b-d3eb-4379-f04f-311e73dc5763"
      },
      "source": [
        "## studentized residuals vs fitted values\n",
        "\n",
        "# Get the studentized residual\n",
        "student_residuals = pd.Series(np.abs(model.get_influence().resid_studentized_internal))\n",
        "\n",
        "# Plot the studentized residual\n",
        "fig, ax = plt.subplots()\n",
        "ax.scatter(predictions, student_residuals, edgecolors = 'k')\n",
        "ax.set_ylabel('Studentized Residuals')\n",
        "ax.set_xlabel('Fitted Values')\n",
        "ax.set_title('Scale-Location')\n",
        "\n",
        "plt.show()\n",
        "\n",
        "## All residuals should be small and not form any clusters"
      ],
      "execution_count": 51,
      "outputs": [
        {
          "output_type": "display_data",
          "data": {
            "image/png": "[encoded data removed]",
            "text/plain": [
              "<Figure size 432x288 with 1 Axes>"
            ]
          },
          "metadata": {
            "needs_background": "light"
          }
        }
      ]
    },
    {
      "cell_type": "markdown",
      "metadata": {
        "id": "eGjs-KTG1qYZ"
      },
      "source": [
        "### 2. Normality\n",
        "\n",
        "Non-normality of the residuals is an indication of an inadequate model\n",
        "(i.e. the errors are not random)"
      ]
    },
    {
      "cell_type": "code",
      "metadata": {
        "colab": {
          "base_uri": "https://localhost:8080/",
          "height": 212
        },
        "id": "C24rNP1E2CtT",
        "outputId": "b918b160-3c27-4e63-8d74-c5ad314e68c3"
      },
      "source": [
        "## Plot residual Q-Q plot\n",
        "\n",
        "import scipy as sp\n",
        "fig, ax = plt.subplots(figsize=(6,2.5))\n",
        "\n",
        "residuals = model.resid\n",
        "_, (__, ___, r) = sp.stats.probplot(residuals, plot=ax, fit=True)"
      ],
      "execution_count": null,
      "outputs": [
        {
          "output_type": "display_data",
          "data": {
            "image/png": "[encoded data removed]",
            "text/plain": [
              "<Figure size 432x180 with 1 Axes>"
            ]
          },
          "metadata": {
            "needs_background": "light"
          }
        }
      ]
    },
    {
      "cell_type": "code",
      "metadata": {
        "colab": {
          "base_uri": "https://localhost:8080/",
          "height": 294
        },
        "id": "j5eQxtKQ4wuW",
        "outputId": "d37df78a-2121-4e57-da3c-9aca846cfefe"
      },
      "source": [
        "## Histogram of residuals distribution\n",
        "\n",
        "# Get Residuals\n",
        "residuals = model.resid\n",
        "\n",
        "# Plot Histogram of the residuals\n",
        "plt.hist(residuals, )\n",
        "plt.xlabel('Residuals')\n",
        "plt.title('Residuals Histogram')\n",
        "plt.show()\n",
        "\n",
        "##  If the residuals are normally distributed, \n",
        "## we should see a bell-shaped histogram centred on 0 and with a variance of 1"
      ],
      "execution_count": null,
      "outputs": [
        {
          "output_type": "display_data",
          "data": {
            "image/png": "[encoded data removed]",
            "text/plain": [
              "<Figure size 432x288 with 1 Axes>"
            ]
          },
          "metadata": {
            "needs_background": "light"
          }
        }
      ]
    },
    {
      "cell_type": "markdown",
      "metadata": {
        "id": "1XKSdsUE7mBN"
      },
      "source": [
        "### 3. Homoscedasticity"
      ]
    },
    {
      "cell_type": "code",
      "metadata": {
        "colab": {
          "base_uri": "https://localhost:8080/",
          "height": 294
        },
        "id": "vvfzSj6D9AsL",
        "outputId": "255f3640-a3cc-4839-d196-83bdeacffa66"
      },
      "source": [
        "## studentized residuals vs fitted values\n",
        "\n",
        "# Get the studentized residual\n",
        "student_residuals = pd.Series(np.abs(model.get_influence().resid_studentized_internal))\n",
        "\n",
        "# Plot the studentized residual\n",
        "fig, ax = plt.subplots()\n",
        "ax.scatter(predictions, student_residuals, edgecolors = 'k')\n",
        "ax.set_ylabel('Studentized Residuals')\n",
        "ax.set_xlabel('Fitted Values')\n",
        "ax.set_title('Scale-Location')\n",
        "\n",
        "plt.show()\n",
        "\n",
        "## Residuals should be distributed equally far apart on a horizontal line"
      ],
      "execution_count": null,
      "outputs": [
        {
          "output_type": "display_data",
          "data": {
            "image/png": "[encoded data removed]",
            "text/plain": [
              "<Figure size 432x288 with 1 Axes>"
            ]
          },
          "metadata": {
            "needs_background": "light"
          }
        }
      ]
    },
    {
      "cell_type": "code",
      "metadata": {
        "colab": {
          "base_uri": "https://localhost:8080/"
        },
        "id": "YyztsxKNkEZO",
        "outputId": "8534c52a-9120-4bd3-c4be-73819914b39c"
      },
      "source": [
        "## Breush-Pagan test\n",
        "# measures how errors increase across the explanatory variable\n",
        "\n",
        "from statsmodels.compat import lzip\n",
        "\n",
        "name = ['Lagrange multiplier statistic', 'p-value', 'f-value', 'f p-value']\n",
        "        \n",
        "test = sms.het_breuschpagan(model.resid, model.model.exog)\n",
        "lzip(name, test)\n",
        "\n",
        "# If the p-value is under alpha (eg. 0.05) => assume heteroskedasticity"
      ],
      "execution_count": null,
      "outputs": [
        {
          "output_type": "execute_result",
          "data": {
            "text/plain": [
              "[('Lagrange multiplier statistic', 14271.96595305622),\n",
              " ('p-value', 0.0),\n",
              " ('f-value', 988.6756651155777),\n",
              " ('f p-value', 0.0)]"
            ]
          },
          "metadata": {},
          "execution_count": 535
        }
      ]
    },
    {
      "cell_type": "markdown",
      "metadata": {
        "id": "BDDwtz5y-d1W"
      },
      "source": [
        "### 4. Independence\n",
        "\n",
        "Independence of residual is commonly referred to as the total absence of autocorrelation"
      ]
    },
    {
      "cell_type": "code",
      "metadata": {
        "colab": {
          "base_uri": "https://localhost:8080/",
          "height": 280
        },
        "id": "wyLNlLlL-nLP",
        "outputId": "b4a26fe7-d563-4f70-b1c6-4fec0fc69a40"
      },
      "source": [
        "## ACF plot\n",
        "\n",
        "import statsmodels.tsa.api as smt\n",
        "acf = smt.graphics.plot_acf(model.resid, alpha=0.05)\n",
        "\n",
        "# if all values are in the confidence intervals, we don't have statistically significant autocorrelation"
      ],
      "execution_count": null,
      "outputs": [
        {
          "output_type": "display_data",
          "data": {
            "image/png": "[encoded data removed]",
            "text/plain": [
              "<Figure size 432x288 with 1 Axes>"
            ]
          },
          "metadata": {
            "needs_background": "light"
          }
        }
      ]
    },
    {
      "cell_type": "code",
      "metadata": {
        "colab": {
          "base_uri": "https://localhost:8080/"
        },
        "id": "RavS5cB5_IiH",
        "outputId": "82612f76-f182-493d-f712-ae51e76c3e38"
      },
      "source": [
        "## Durbin-Watson\n",
        "\n",
        "# The test will output values between 0 and 4. Here are how to interpret the results of the test:\n",
        "# — value = 2 means that there is no autocorrelation in the sample,\n",
        "# — values < 2 indicate positive autocorrelation,\n",
        "# — values > 2 negative autocorrelation.\n",
        "\n",
        "import statsmodels.stats.stattools as st\n",
        "\n",
        "st.durbin_watson(residuals, axis=0)"
      ],
      "execution_count": null,
      "outputs": [
        {
          "output_type": "execute_result",
          "data": {
            "text/plain": [
              "2.001959431428672"
            ]
          },
          "metadata": {},
          "execution_count": 537
        }
      ]
    },
    {
      "cell_type": "markdown",
      "metadata": {
        "id": "brGGQhjF_j8B"
      },
      "source": [
        "### 5. Multicollinearity\n",
        "\n",
        "occurs when your model includes multiple factors that are correlated not just to your response variable, but also to each other"
      ]
    },
    {
      "cell_type": "code",
      "metadata": {
        "colab": {
          "base_uri": "https://localhost:8080/",
          "height": 657
        },
        "id": "Zs9RA6yH_sN8",
        "outputId": "698d0d44-ba5e-4a41-d411-3b96798e6725"
      },
      "source": [
        "## Variance Inflation Factor (VIF)\n",
        "\n",
        "from statsmodels.stats.outliers_influence import variance_inflation_factor\n",
        "from statsmodels.tools.tools import add_constant\n",
        "\n",
        "# For each X, calculate VIF and save in dataframe\n",
        "X = add_constant(X_train)\n",
        "\n",
        "vif = pd.DataFrame()\n",
        "vif[\"VIF Factor\"] = [variance_inflation_factor(X.values, i) for i in range(X.shape[1])]\n",
        "vif[\"features\"] = X.columns\n",
        "\n",
        "# inspect results\n",
        "vif.round(1) \n",
        "\n",
        "## We generally consider that a VIF of 5 or 10 and above \n",
        "## (depends on the business problem) indicates a multicollinearity problem"
      ],
      "execution_count": null,
      "outputs": [
        {
          "output_type": "execute_result",
          "data": {
            "text/html": [
              "<div>\n",
              "<style scoped>\n",
              "    .dataframe tbody tr th:only-of-type {\n",
              "        vertical-align: middle;\n",
              "    }\n",
              "\n",
              "    .dataframe tbody tr th {\n",
              "        vertical-align: top;\n",
              "    }\n",
              "\n",
              "    .dataframe thead th {\n",
              "        text-align: right;\n",
              "    }\n",
              "</style>\n",
              "<table border=\"1\" class=\"dataframe\">\n",
              "  <thead>\n",
              "    <tr style=\"text-align: right;\">\n",
              "      <th></th>\n",
              "      <th>VIF Factor</th>\n",
              "      <th>features</th>\n",
              "    </tr>\n",
              "  </thead>\n",
              "  <tbody>\n",
              "    <tr>\n",
              "      <th>0</th>\n",
              "      <td>12467.9</td>\n",
              "      <td>const</td>\n",
              "    </tr>\n",
              "    <tr>\n",
              "      <th>1</th>\n",
              "      <td>2.5</td>\n",
              "      <td>mileage</td>\n",
              "    </tr>\n",
              "    <tr>\n",
              "      <th>2</th>\n",
              "      <td>1.5</td>\n",
              "      <td>tax</td>\n",
              "    </tr>\n",
              "    <tr>\n",
              "      <th>3</th>\n",
              "      <td>2.3</td>\n",
              "      <td>mpg</td>\n",
              "    </tr>\n",
              "    <tr>\n",
              "      <th>4</th>\n",
              "      <td>2.7</td>\n",
              "      <td>engineSize</td>\n",
              "    </tr>\n",
              "    <tr>\n",
              "      <th>5</th>\n",
              "      <td>2.4</td>\n",
              "      <td>carAge</td>\n",
              "    </tr>\n",
              "    <tr>\n",
              "      <th>6</th>\n",
              "      <td>1.7</td>\n",
              "      <td>brand_audi</td>\n",
              "    </tr>\n",
              "    <tr>\n",
              "      <th>7</th>\n",
              "      <td>1.6</td>\n",
              "      <td>brand_bmw</td>\n",
              "    </tr>\n",
              "    <tr>\n",
              "      <th>8</th>\n",
              "      <td>2.7</td>\n",
              "      <td>brand_ford</td>\n",
              "    </tr>\n",
              "    <tr>\n",
              "      <th>9</th>\n",
              "      <td>1.5</td>\n",
              "      <td>brand_hyundi</td>\n",
              "    </tr>\n",
              "    <tr>\n",
              "      <th>10</th>\n",
              "      <td>1.6</td>\n",
              "      <td>brand_skoda</td>\n",
              "    </tr>\n",
              "    <tr>\n",
              "      <th>11</th>\n",
              "      <td>2.0</td>\n",
              "      <td>brand_toyota</td>\n",
              "    </tr>\n",
              "    <tr>\n",
              "      <th>12</th>\n",
              "      <td>2.4</td>\n",
              "      <td>brand_vauxhall</td>\n",
              "    </tr>\n",
              "    <tr>\n",
              "      <th>13</th>\n",
              "      <td>2.2</td>\n",
              "      <td>brand_vw</td>\n",
              "    </tr>\n",
              "    <tr>\n",
              "      <th>14</th>\n",
              "      <td>1910.8</td>\n",
              "      <td>transmission_Automatic</td>\n",
              "    </tr>\n",
              "    <tr>\n",
              "      <th>15</th>\n",
              "      <td>2909.4</td>\n",
              "      <td>transmission_Manual</td>\n",
              "    </tr>\n",
              "    <tr>\n",
              "      <th>16</th>\n",
              "      <td>2090.2</td>\n",
              "      <td>transmission_Semi-Auto</td>\n",
              "    </tr>\n",
              "    <tr>\n",
              "      <th>17</th>\n",
              "      <td>105.0</td>\n",
              "      <td>fuelType_Diesel</td>\n",
              "    </tr>\n",
              "    <tr>\n",
              "      <th>18</th>\n",
              "      <td>13.5</td>\n",
              "      <td>fuelType_Hybrid</td>\n",
              "    </tr>\n",
              "    <tr>\n",
              "      <th>19</th>\n",
              "      <td>108.9</td>\n",
              "      <td>fuelType_Petrol</td>\n",
              "    </tr>\n",
              "  </tbody>\n",
              "</table>\n",
              "</div>"
            ],
            "text/plain": [
              "    VIF Factor                features\n",
              "0      12467.9                   const\n",
              "1          2.5                 mileage\n",
              "2          1.5                     tax\n",
              "3          2.3                     mpg\n",
              "4          2.7              engineSize\n",
              "5          2.4                  carAge\n",
              "6          1.7              brand_audi\n",
              "7          1.6               brand_bmw\n",
              "8          2.7              brand_ford\n",
              "9          1.5            brand_hyundi\n",
              "10         1.6             brand_skoda\n",
              "11         2.0            brand_toyota\n",
              "12         2.4          brand_vauxhall\n",
              "13         2.2                brand_vw\n",
              "14      1910.8  transmission_Automatic\n",
              "15      2909.4     transmission_Manual\n",
              "16      2090.2  transmission_Semi-Auto\n",
              "17       105.0         fuelType_Diesel\n",
              "18        13.5         fuelType_Hybrid\n",
              "19       108.9         fuelType_Petrol"
            ]
          },
          "metadata": {},
          "execution_count": 12
        }
      ]
    },
    {
      "cell_type": "code",
      "metadata": {
        "colab": {
          "base_uri": "https://localhost:8080/",
          "height": 508
        },
        "id": "WimF4KKdA0ds",
        "outputId": "8b6c7e77-6826-49ab-c46f-6cc5bd991c35"
      },
      "source": [
        "plt.subplots(figsize=(15,7))\n",
        "sns.heatmap(df.corr(), annot = True, cmap='coolwarm')"
      ],
      "execution_count": null,
      "outputs": [
        {
          "output_type": "execute_result",
          "data": {
            "text/plain": [
              "<matplotlib.axes._subplots.AxesSubplot at 0x7f5eb70822d0>"
            ]
          },
          "metadata": {},
          "execution_count": 352
        },
        {
          "output_type": "display_data",
          "data": {
            "image/png": "[encoded data removed]",
            "text/plain": [
              "<Figure size 1080x504 with 2 Axes>"
            ]
          },
          "metadata": {
            "needs_background": "light"
          }
        }
      ]
    },
    {
      "cell_type": "markdown",
      "metadata": {
        "id": "c9VkcxHkhwM5"
      },
      "source": [
        "# Apply Model\n",
        "This cell applies the model on the validation dataset. (It predicts the price for every car in the validation set)"
      ]
    },
    {
      "cell_type": "code",
      "metadata": {
        "id": "OYrgwO1k3EOO"
      },
      "source": [
        "validate_apply = pd.DataFrame(columns = ['predicted_price', 'actual_price'])\n",
        "validate_apply[\"predicted_price\"] = model.predict(X_validate)\n",
        "validate_apply[\"actual_price\"] = y_validate"
      ],
      "execution_count": null,
      "outputs": []
    },
    {
      "cell_type": "code",
      "metadata": {
        "id": "gs38TljTKFx3"
      },
      "source": [
        "# Rverse Box-Cox Transformation\n",
        "validate_apply[\"predicted_price\"] = pt.inverse_transform(validate_apply[[\"predicted_price\"]])\n",
        "validate_apply[\"actual_price\"] = pt.inverse_transform(validate_apply[[\"actual_price\"]])"
      ],
      "execution_count": null,
      "outputs": []
    },
    {
      "cell_type": "markdown",
      "metadata": {
        "id": "AJmYj-Ged7dT"
      },
      "source": [
        "##LinLin Function\n",
        "This cell defines the LinearLinear cost function. It checks if the residual is greater than 0. If yes, it multiplies the ratio of asymetry which represents the asymetric costs. "
      ]
    },
    {
      "cell_type": "code",
      "metadata": {
        "id": "DrnnXVi33EOU"
      },
      "source": [
        "def linlin(ratio, md, actual, prediction): \n",
        "    residual = (md + (prediction - actual))\n",
        "    \n",
        "    if residual < 0:            # Overprediction\n",
        "        actualCosts = abs(residual) * ratio\n",
        "    else:       # Underprediction\n",
        "        actualCosts = abs(residual)    \n",
        "    return actualCosts"
      ],
      "execution_count": null,
      "outputs": []
    },
    {
      "cell_type": "markdown",
      "metadata": {
        "id": "1pZhYLKpw1L8"
      },
      "source": [
        "## Quadratic Quadratic\n",
        "\n",
        "This cell defines the QuadraticQuadratic cost function. It checks if the residual is greater than 0. If yes, it multiplies the ratio of asymetry which represents the asymetric costs. "
      ]
    },
    {
      "cell_type": "code",
      "metadata": {
        "id": "6byWKqxiw0gF"
      },
      "source": [
        "def qq(ratio, md, actual, prediction): \n",
        "    residual = (md + (prediction - actual))\n",
        "    \n",
        "    if residual < 0:            # Overprediction\n",
        "        actualCosts = ratio * (residual**2)   \n",
        "    else:                       # Underprediction\n",
        "        actualCosts = (residual)**2    \n",
        "    return actualCosts"
      ],
      "execution_count": null,
      "outputs": []
    },
    {
      "cell_type": "markdown",
      "metadata": {
        "id": "4k_CdhSW-S2E"
      },
      "source": [
        "## Linex\n",
        "\n",
        "This cell defines the Linear Exponential cost function. However we did not use it since our residuals are too big and would provoke an overflow error."
      ]
    },
    {
      "cell_type": "code",
      "metadata": {
        "id": "3aHv4MYA-U7n"
      },
      "source": [
        "def linex(ratio, md, actual, prediction): \n",
        "    residual = (md + (prediction - actual))\n",
        "\n",
        "    actualCosts = np.exp(residual*ratio)-(residual*ratio)-1\n",
        "\n",
        "    return actualCosts"
      ],
      "execution_count": null,
      "outputs": []
    },
    {
      "cell_type": "markdown",
      "metadata": {
        "id": "ys60SJnAeWDi"
      },
      "source": [
        "## Actual Costs Function\n",
        "This cell defines the function that calculates the actual costs. It uses the linlin / qq / linex function from the previous cell and applies it on our dataset with the actual and predicted price. Finally it uses mean() to calculate the average misprediction over all residuals."
      ]
    },
    {
      "cell_type": "code",
      "metadata": {
        "id": "ud8auPOWisdU"
      },
      "source": [
        "def AMCosts(ratio, md, whichCostFunction):\n",
        "\n",
        "    if whichCostFunction ==\"linlin\":\n",
        "      validate_apply[\"MispredictionCosts\"] = validate_apply.apply(lambda x: linlin(ratio, md, x[\"actual_price\"], x[\"predicted_price\"]),axis=1)\n",
        "      AverageMispredictionCosts = validate_apply[\"MispredictionCosts\"].mean()\n",
        "    \n",
        "    elif whichCostFunction ==\"qq\":\n",
        "      validate_apply[\"MispredictionCosts\"] = validate_apply.apply(lambda x: qq(ratio, md, x[\"actual_price\"], x[\"predicted_price\"]),axis=1)\n",
        "      AverageMispredictionCosts = validate_apply[\"MispredictionCosts\"].mean()\n",
        "\n",
        "    elif whichCostFunction ==\"linex\":\n",
        "      validate_apply[\"MispredictionCosts\"] = validate_apply.apply(lambda x: linex(ratio, md, x[\"actual_price\"], x[\"predicted_price\"]),axis=1)\n",
        "      AverageMispredictionCosts = validate_apply[\"MispredictionCosts\"].mean()\n",
        "\n",
        "    else:\n",
        "      print(\"set a value for the variable whichCostFunction to chose the cost function\")\n",
        "    \n",
        "    return AverageMispredictionCosts"
      ],
      "execution_count": null,
      "outputs": []
    },
    {
      "cell_type": "markdown",
      "metadata": {
        "id": "xKFxzrDaevWA"
      },
      "source": [
        "## Markdown Algorithm\n",
        "This cell is the implementation of the markdownalgorithm suggested by Gaurav Bansal.\n",
        "\n",
        "Source: Bansal, G, Sinha, A P, and Zhao, H 2008 Tuning Data Mining Methods for Cost-Sensitive Regression: A Study in Loan Charge-Off Forecasting. Journal of Management Information Systems, 25(3): 315–336. DOI: https://doi.org/10.2753/MIS0742-1222250309\n"
      ]
    },
    {
      "cell_type": "code",
      "metadata": {
        "id": "7S_KSAtwis2i"
      },
      "source": [
        "def find_md(ratio, whichCostFunction):\n",
        "  md = 0\n",
        "  p = 1\n",
        "  s = 1\n",
        "\n",
        "  # This part determines d which defines the \"direction\" of our markdown\n",
        "  if AMCosts(ratio, p, whichCostFunction) < AMCosts(ratio, 0, whichCostFunction):\n",
        "    d = 1\n",
        "  else:\n",
        "    d = -1\n",
        "\n",
        "  md_prev = 0\n",
        "  md_next = md + s * d * p\n",
        "\n",
        "  while True:\n",
        "   s = 1\n",
        "   md = md_prev\n",
        "\n",
        "   while True:  \n",
        "      #print(\"markdown is: \" + str(md))\n",
        "      md_prev = md\n",
        "      md = md + s * d * p\n",
        "      s = s * 2\n",
        "      md_next = md + s * d * p\n",
        "      if AMCosts(ratio, md_next, whichCostFunction) > AMCosts(ratio, md, whichCostFunction):\n",
        "        break\n",
        "        \n",
        "        #print(\"costs are: \" + str(AMCosts(ratio, md)))\n",
        "   if s <= 2:\n",
        "     break\n",
        "  optimal_md = md\n",
        "  #print(\"The optimal markdown value is: \" + str(md))\n",
        "  return optimal_md"
      ],
      "execution_count": 42,
      "outputs": []
    },
    {
      "cell_type": "markdown",
      "metadata": {
        "id": "UCTHkn7hnCGR"
      },
      "source": [
        "This cell applies the linlin and qq costs function on the dataset with different ratios of cost asymetry (ratio: 1.0, 1.1, 1.2, 1.3, 1.4, 1.5, 1.6, 1.7, 1.8, 1.9, 2.0) "
      ]
    },
    {
      "cell_type": "code",
      "metadata": {
        "id": "t7CXNgT-fZRU",
        "colab": {
          "base_uri": "https://localhost:8080/",
          "height": 1000
        },
        "outputId": "efcd16be-a49e-4b12-8d85-26f130214f57"
      },
      "source": [
        "ratio_list = [1.0, 1.1, 1.2, 1.3, 1.4, 1.5, 1.6, 1.7, 1.8, 1.9, 2.0]\n",
        "CostFunctions = [\"linlin\",\"qq\"]\n",
        "results = pd.DataFrame(columns=['CostFunction','Ratio','Markdown', 'Average Misprediction Costs', 'Average Misprediction Costs with md = 0'])\n",
        "\n",
        "for function in CostFunctions:\n",
        "  for ratio in ratio_list:\n",
        "    md = find_md(ratio, function)\n",
        "    AMC = AMCosts(ratio, md, function)\n",
        "    AMC_md0 = AMCosts(ratio, 0, function)\n",
        "    results = results.append({'CostFunction': function, 'Ratio': ratio, 'Markdown': md, 'Average Misprediction Costs':AMC, 'Average Misprediction Costs with md = 0':AMC_md0 }, ignore_index=True)\n",
        "    print(\"ratio: \" + str(ratio) + \" markdown: \" + str(md) + \" the average misprediction costs are: \" + str(AMC) + \" The AMC for md = 0 are: \" + str(AMC_md0))\n",
        "\n",
        "results"
      ],
      "execution_count": 43,
      "outputs": [
        {
          "output_type": "stream",
          "text": [
            "ratio: 1.0 markdown: 67 the average misprediction costs are: 2357.1942797127886 The AMC for md = 0 are: 2357.9932175444337\n",
            "ratio: 1.1 markdown: 194 the average misprediction costs are: 2483.0222914433352 The AMC for md = 0 are: 2490.494741076381\n",
            "ratio: 1.2 markdown: 309 the average misprediction costs are: 2603.089925133421 The AMC for md = 0 are: 2622.99626460834\n",
            "ratio: 1.3 markdown: 418 the average misprediction costs are: 2718.1611117687125 The AMC for md = 0 are: 2755.497788140313\n",
            "ratio: 1.4 markdown: 518 the average misprediction costs are: 2828.7402710486167 The AMC for md = 0 are: 2887.999311672263\n",
            "ratio: 1.5 markdown: 620 the average misprediction costs are: 2934.985547197761 The AMC for md = 0 are: 3020.5008352042396\n",
            "ratio: 1.6 markdown: 711 the average misprediction costs are: 3037.495421255567 The AMC for md = 0 are: 3153.002358736187\n",
            "ratio: 1.7 markdown: 794 the average misprediction costs are: 3136.5733940706546 The AMC for md = 0 are: 3285.503882268137\n",
            "ratio: 1.8 markdown: 872 the average misprediction costs are: 3232.6697923543843 The AMC for md = 0 are: 3418.0054058001\n",
            "ratio: 1.9 markdown: 944 the average misprediction costs are: 3326.114043497743 The AMC for md = 0 are: 3550.5069293320785\n",
            "ratio: 2.0 markdown: 1022 the average misprediction costs are: 3416.9917535649006 The AMC for md = 0 are: 3683.008452864033\n",
            "ratio: 1.0 markdown: 292 the average misprediction costs are: 15266673.864917396 The AMC for md = 0 are: 15351959.620724663\n",
            "ratio: 1.1 markdown: 405 the average misprediction costs are: 16246061.722928766 The AMC for md = 0 are: 16417918.573126595\n",
            "ratio: 1.2 markdown: 509 the average misprediction costs are: 17200812.017495193 The AMC for md = 0 are: 17483877.52552852\n",
            "ratio: 1.3 markdown: 606 the average misprediction costs are: 18133674.427821938 The AMC for md = 0 are: 18549836.477930218\n",
            "ratio: 1.4 markdown: 697 the average misprediction costs are: 19046896.056682546 The AMC for md = 0 are: 19615795.430332124\n",
            "ratio: 1.5 markdown: 782 the average misprediction costs are: 19942337.38401549 The AMC for md = 0 are: 20681754.382734157\n",
            "ratio: 1.6 markdown: 862 the average misprediction costs are: 20821562.001622327 The AMC for md = 0 are: 21747713.335136093\n",
            "ratio: 1.7 markdown: 938 the average misprediction costs are: 21685893.902887933 The AMC for md = 0 are: 22813672.287537932\n",
            "ratio: 1.8 markdown: 1011 the average misprediction costs are: 22536467.69720417 The AMC for md = 0 are: 23879631.23993976\n",
            "ratio: 1.9 markdown: 1080 the average misprediction costs are: 23374277.0622263 The AMC for md = 0 are: 24945590.192341648\n",
            "ratio: 2.0 markdown: 1147 the average misprediction costs are: 24200187.252888333 The AMC for md = 0 are: 26011549.144743595\n"
          ],
          "name": "stdout"
        },
        {
          "output_type": "execute_result",
          "data": {
            "text/html": [
              "<div>\n",
              "<style scoped>\n",
              "    .dataframe tbody tr th:only-of-type {\n",
              "        vertical-align: middle;\n",
              "    }\n",
              "\n",
              "    .dataframe tbody tr th {\n",
              "        vertical-align: top;\n",
              "    }\n",
              "\n",
              "    .dataframe thead th {\n",
              "        text-align: right;\n",
              "    }\n",
              "</style>\n",
              "<table border=\"1\" class=\"dataframe\">\n",
              "  <thead>\n",
              "    <tr style=\"text-align: right;\">\n",
              "      <th></th>\n",
              "      <th>CostFunction</th>\n",
              "      <th>Ratio</th>\n",
              "      <th>Markdown</th>\n",
              "      <th>Average Misprediction Costs</th>\n",
              "      <th>Average Misprediction Costs with md = 0</th>\n",
              "    </tr>\n",
              "  </thead>\n",
              "  <tbody>\n",
              "    <tr>\n",
              "      <th>0</th>\n",
              "      <td>linlin</td>\n",
              "      <td>1.0</td>\n",
              "      <td>67</td>\n",
              "      <td>2.357194e+03</td>\n",
              "      <td>2.357993e+03</td>\n",
              "    </tr>\n",
              "    <tr>\n",
              "      <th>1</th>\n",
              "      <td>linlin</td>\n",
              "      <td>1.1</td>\n",
              "      <td>194</td>\n",
              "      <td>2.483022e+03</td>\n",
              "      <td>2.490495e+03</td>\n",
              "    </tr>\n",
              "    <tr>\n",
              "      <th>2</th>\n",
              "      <td>linlin</td>\n",
              "      <td>1.2</td>\n",
              "      <td>309</td>\n",
              "      <td>2.603090e+03</td>\n",
              "      <td>2.622996e+03</td>\n",
              "    </tr>\n",
              "    <tr>\n",
              "      <th>3</th>\n",
              "      <td>linlin</td>\n",
              "      <td>1.3</td>\n",
              "      <td>418</td>\n",
              "      <td>2.718161e+03</td>\n",
              "      <td>2.755498e+03</td>\n",
              "    </tr>\n",
              "    <tr>\n",
              "      <th>4</th>\n",
              "      <td>linlin</td>\n",
              "      <td>1.4</td>\n",
              "      <td>518</td>\n",
              "      <td>2.828740e+03</td>\n",
              "      <td>2.887999e+03</td>\n",
              "    </tr>\n",
              "    <tr>\n",
              "      <th>5</th>\n",
              "      <td>linlin</td>\n",
              "      <td>1.5</td>\n",
              "      <td>620</td>\n",
              "      <td>2.934986e+03</td>\n",
              "      <td>3.020501e+03</td>\n",
              "    </tr>\n",
              "    <tr>\n",
              "      <th>6</th>\n",
              "      <td>linlin</td>\n",
              "      <td>1.6</td>\n",
              "      <td>711</td>\n",
              "      <td>3.037495e+03</td>\n",
              "      <td>3.153002e+03</td>\n",
              "    </tr>\n",
              "    <tr>\n",
              "      <th>7</th>\n",
              "      <td>linlin</td>\n",
              "      <td>1.7</td>\n",
              "      <td>794</td>\n",
              "      <td>3.136573e+03</td>\n",
              "      <td>3.285504e+03</td>\n",
              "    </tr>\n",
              "    <tr>\n",
              "      <th>8</th>\n",
              "      <td>linlin</td>\n",
              "      <td>1.8</td>\n",
              "      <td>872</td>\n",
              "      <td>3.232670e+03</td>\n",
              "      <td>3.418005e+03</td>\n",
              "    </tr>\n",
              "    <tr>\n",
              "      <th>9</th>\n",
              "      <td>linlin</td>\n",
              "      <td>1.9</td>\n",
              "      <td>944</td>\n",
              "      <td>3.326114e+03</td>\n",
              "      <td>3.550507e+03</td>\n",
              "    </tr>\n",
              "    <tr>\n",
              "      <th>10</th>\n",
              "      <td>linlin</td>\n",
              "      <td>2.0</td>\n",
              "      <td>1022</td>\n",
              "      <td>3.416992e+03</td>\n",
              "      <td>3.683008e+03</td>\n",
              "    </tr>\n",
              "    <tr>\n",
              "      <th>11</th>\n",
              "      <td>qq</td>\n",
              "      <td>1.0</td>\n",
              "      <td>292</td>\n",
              "      <td>1.526667e+07</td>\n",
              "      <td>1.535196e+07</td>\n",
              "    </tr>\n",
              "    <tr>\n",
              "      <th>12</th>\n",
              "      <td>qq</td>\n",
              "      <td>1.1</td>\n",
              "      <td>405</td>\n",
              "      <td>1.624606e+07</td>\n",
              "      <td>1.641792e+07</td>\n",
              "    </tr>\n",
              "    <tr>\n",
              "      <th>13</th>\n",
              "      <td>qq</td>\n",
              "      <td>1.2</td>\n",
              "      <td>509</td>\n",
              "      <td>1.720081e+07</td>\n",
              "      <td>1.748388e+07</td>\n",
              "    </tr>\n",
              "    <tr>\n",
              "      <th>14</th>\n",
              "      <td>qq</td>\n",
              "      <td>1.3</td>\n",
              "      <td>606</td>\n",
              "      <td>1.813367e+07</td>\n",
              "      <td>1.854984e+07</td>\n",
              "    </tr>\n",
              "    <tr>\n",
              "      <th>15</th>\n",
              "      <td>qq</td>\n",
              "      <td>1.4</td>\n",
              "      <td>697</td>\n",
              "      <td>1.904690e+07</td>\n",
              "      <td>1.961580e+07</td>\n",
              "    </tr>\n",
              "    <tr>\n",
              "      <th>16</th>\n",
              "      <td>qq</td>\n",
              "      <td>1.5</td>\n",
              "      <td>782</td>\n",
              "      <td>1.994234e+07</td>\n",
              "      <td>2.068175e+07</td>\n",
              "    </tr>\n",
              "    <tr>\n",
              "      <th>17</th>\n",
              "      <td>qq</td>\n",
              "      <td>1.6</td>\n",
              "      <td>862</td>\n",
              "      <td>2.082156e+07</td>\n",
              "      <td>2.174771e+07</td>\n",
              "    </tr>\n",
              "    <tr>\n",
              "      <th>18</th>\n",
              "      <td>qq</td>\n",
              "      <td>1.7</td>\n",
              "      <td>938</td>\n",
              "      <td>2.168589e+07</td>\n",
              "      <td>2.281367e+07</td>\n",
              "    </tr>\n",
              "    <tr>\n",
              "      <th>19</th>\n",
              "      <td>qq</td>\n",
              "      <td>1.8</td>\n",
              "      <td>1011</td>\n",
              "      <td>2.253647e+07</td>\n",
              "      <td>2.387963e+07</td>\n",
              "    </tr>\n",
              "    <tr>\n",
              "      <th>20</th>\n",
              "      <td>qq</td>\n",
              "      <td>1.9</td>\n",
              "      <td>1080</td>\n",
              "      <td>2.337428e+07</td>\n",
              "      <td>2.494559e+07</td>\n",
              "    </tr>\n",
              "    <tr>\n",
              "      <th>21</th>\n",
              "      <td>qq</td>\n",
              "      <td>2.0</td>\n",
              "      <td>1147</td>\n",
              "      <td>2.420019e+07</td>\n",
              "      <td>2.601155e+07</td>\n",
              "    </tr>\n",
              "  </tbody>\n",
              "</table>\n",
              "</div>"
            ],
            "text/plain": [
              "   CostFunction  ...  Average Misprediction Costs with md = 0\n",
              "0        linlin  ...                             2.357993e+03\n",
              "1        linlin  ...                             2.490495e+03\n",
              "2        linlin  ...                             2.622996e+03\n",
              "3        linlin  ...                             2.755498e+03\n",
              "4        linlin  ...                             2.887999e+03\n",
              "5        linlin  ...                             3.020501e+03\n",
              "6        linlin  ...                             3.153002e+03\n",
              "7        linlin  ...                             3.285504e+03\n",
              "8        linlin  ...                             3.418005e+03\n",
              "9        linlin  ...                             3.550507e+03\n",
              "10       linlin  ...                             3.683008e+03\n",
              "11           qq  ...                             1.535196e+07\n",
              "12           qq  ...                             1.641792e+07\n",
              "13           qq  ...                             1.748388e+07\n",
              "14           qq  ...                             1.854984e+07\n",
              "15           qq  ...                             1.961580e+07\n",
              "16           qq  ...                             2.068175e+07\n",
              "17           qq  ...                             2.174771e+07\n",
              "18           qq  ...                             2.281367e+07\n",
              "19           qq  ...                             2.387963e+07\n",
              "20           qq  ...                             2.494559e+07\n",
              "21           qq  ...                             2.601155e+07\n",
              "\n",
              "[22 rows x 5 columns]"
            ]
          },
          "metadata": {},
          "execution_count": 43
        }
      ]
    },
    {
      "cell_type": "code",
      "metadata": {
        "colab": {
          "base_uri": "https://localhost:8080/",
          "height": 718
        },
        "id": "Ettv1-xU6ncc",
        "outputId": "cbda05cf-6f60-4e7e-81da-b1a4ca2b1907"
      },
      "source": [
        "  results.round(1)"
      ],
      "execution_count": 44,
      "outputs": [
        {
          "output_type": "execute_result",
          "data": {
            "text/html": [
              "<div>\n",
              "<style scoped>\n",
              "    .dataframe tbody tr th:only-of-type {\n",
              "        vertical-align: middle;\n",
              "    }\n",
              "\n",
              "    .dataframe tbody tr th {\n",
              "        vertical-align: top;\n",
              "    }\n",
              "\n",
              "    .dataframe thead th {\n",
              "        text-align: right;\n",
              "    }\n",
              "</style>\n",
              "<table border=\"1\" class=\"dataframe\">\n",
              "  <thead>\n",
              "    <tr style=\"text-align: right;\">\n",
              "      <th></th>\n",
              "      <th>CostFunction</th>\n",
              "      <th>Ratio</th>\n",
              "      <th>Markdown</th>\n",
              "      <th>Average Misprediction Costs</th>\n",
              "      <th>Average Misprediction Costs with md = 0</th>\n",
              "    </tr>\n",
              "  </thead>\n",
              "  <tbody>\n",
              "    <tr>\n",
              "      <th>0</th>\n",
              "      <td>linlin</td>\n",
              "      <td>1.0</td>\n",
              "      <td>67</td>\n",
              "      <td>2357.2</td>\n",
              "      <td>2358.0</td>\n",
              "    </tr>\n",
              "    <tr>\n",
              "      <th>1</th>\n",
              "      <td>linlin</td>\n",
              "      <td>1.1</td>\n",
              "      <td>194</td>\n",
              "      <td>2483.0</td>\n",
              "      <td>2490.5</td>\n",
              "    </tr>\n",
              "    <tr>\n",
              "      <th>2</th>\n",
              "      <td>linlin</td>\n",
              "      <td>1.2</td>\n",
              "      <td>309</td>\n",
              "      <td>2603.1</td>\n",
              "      <td>2623.0</td>\n",
              "    </tr>\n",
              "    <tr>\n",
              "      <th>3</th>\n",
              "      <td>linlin</td>\n",
              "      <td>1.3</td>\n",
              "      <td>418</td>\n",
              "      <td>2718.2</td>\n",
              "      <td>2755.5</td>\n",
              "    </tr>\n",
              "    <tr>\n",
              "      <th>4</th>\n",
              "      <td>linlin</td>\n",
              "      <td>1.4</td>\n",
              "      <td>518</td>\n",
              "      <td>2828.7</td>\n",
              "      <td>2888.0</td>\n",
              "    </tr>\n",
              "    <tr>\n",
              "      <th>5</th>\n",
              "      <td>linlin</td>\n",
              "      <td>1.5</td>\n",
              "      <td>620</td>\n",
              "      <td>2935.0</td>\n",
              "      <td>3020.5</td>\n",
              "    </tr>\n",
              "    <tr>\n",
              "      <th>6</th>\n",
              "      <td>linlin</td>\n",
              "      <td>1.6</td>\n",
              "      <td>711</td>\n",
              "      <td>3037.5</td>\n",
              "      <td>3153.0</td>\n",
              "    </tr>\n",
              "    <tr>\n",
              "      <th>7</th>\n",
              "      <td>linlin</td>\n",
              "      <td>1.7</td>\n",
              "      <td>794</td>\n",
              "      <td>3136.6</td>\n",
              "      <td>3285.5</td>\n",
              "    </tr>\n",
              "    <tr>\n",
              "      <th>8</th>\n",
              "      <td>linlin</td>\n",
              "      <td>1.8</td>\n",
              "      <td>872</td>\n",
              "      <td>3232.7</td>\n",
              "      <td>3418.0</td>\n",
              "    </tr>\n",
              "    <tr>\n",
              "      <th>9</th>\n",
              "      <td>linlin</td>\n",
              "      <td>1.9</td>\n",
              "      <td>944</td>\n",
              "      <td>3326.1</td>\n",
              "      <td>3550.5</td>\n",
              "    </tr>\n",
              "    <tr>\n",
              "      <th>10</th>\n",
              "      <td>linlin</td>\n",
              "      <td>2.0</td>\n",
              "      <td>1022</td>\n",
              "      <td>3417.0</td>\n",
              "      <td>3683.0</td>\n",
              "    </tr>\n",
              "    <tr>\n",
              "      <th>11</th>\n",
              "      <td>qq</td>\n",
              "      <td>1.0</td>\n",
              "      <td>292</td>\n",
              "      <td>15266673.9</td>\n",
              "      <td>15351959.6</td>\n",
              "    </tr>\n",
              "    <tr>\n",
              "      <th>12</th>\n",
              "      <td>qq</td>\n",
              "      <td>1.1</td>\n",
              "      <td>405</td>\n",
              "      <td>16246061.7</td>\n",
              "      <td>16417918.6</td>\n",
              "    </tr>\n",
              "    <tr>\n",
              "      <th>13</th>\n",
              "      <td>qq</td>\n",
              "      <td>1.2</td>\n",
              "      <td>509</td>\n",
              "      <td>17200812.0</td>\n",
              "      <td>17483877.5</td>\n",
              "    </tr>\n",
              "    <tr>\n",
              "      <th>14</th>\n",
              "      <td>qq</td>\n",
              "      <td>1.3</td>\n",
              "      <td>606</td>\n",
              "      <td>18133674.4</td>\n",
              "      <td>18549836.5</td>\n",
              "    </tr>\n",
              "    <tr>\n",
              "      <th>15</th>\n",
              "      <td>qq</td>\n",
              "      <td>1.4</td>\n",
              "      <td>697</td>\n",
              "      <td>19046896.1</td>\n",
              "      <td>19615795.4</td>\n",
              "    </tr>\n",
              "    <tr>\n",
              "      <th>16</th>\n",
              "      <td>qq</td>\n",
              "      <td>1.5</td>\n",
              "      <td>782</td>\n",
              "      <td>19942337.4</td>\n",
              "      <td>20681754.4</td>\n",
              "    </tr>\n",
              "    <tr>\n",
              "      <th>17</th>\n",
              "      <td>qq</td>\n",
              "      <td>1.6</td>\n",
              "      <td>862</td>\n",
              "      <td>20821562.0</td>\n",
              "      <td>21747713.3</td>\n",
              "    </tr>\n",
              "    <tr>\n",
              "      <th>18</th>\n",
              "      <td>qq</td>\n",
              "      <td>1.7</td>\n",
              "      <td>938</td>\n",
              "      <td>21685893.9</td>\n",
              "      <td>22813672.3</td>\n",
              "    </tr>\n",
              "    <tr>\n",
              "      <th>19</th>\n",
              "      <td>qq</td>\n",
              "      <td>1.8</td>\n",
              "      <td>1011</td>\n",
              "      <td>22536467.7</td>\n",
              "      <td>23879631.2</td>\n",
              "    </tr>\n",
              "    <tr>\n",
              "      <th>20</th>\n",
              "      <td>qq</td>\n",
              "      <td>1.9</td>\n",
              "      <td>1080</td>\n",
              "      <td>23374277.1</td>\n",
              "      <td>24945590.2</td>\n",
              "    </tr>\n",
              "    <tr>\n",
              "      <th>21</th>\n",
              "      <td>qq</td>\n",
              "      <td>2.0</td>\n",
              "      <td>1147</td>\n",
              "      <td>24200187.3</td>\n",
              "      <td>26011549.1</td>\n",
              "    </tr>\n",
              "  </tbody>\n",
              "</table>\n",
              "</div>"
            ],
            "text/plain": [
              "   CostFunction  ...  Average Misprediction Costs with md = 0\n",
              "0        linlin  ...                                   2358.0\n",
              "1        linlin  ...                                   2490.5\n",
              "2        linlin  ...                                   2623.0\n",
              "3        linlin  ...                                   2755.5\n",
              "4        linlin  ...                                   2888.0\n",
              "5        linlin  ...                                   3020.5\n",
              "6        linlin  ...                                   3153.0\n",
              "7        linlin  ...                                   3285.5\n",
              "8        linlin  ...                                   3418.0\n",
              "9        linlin  ...                                   3550.5\n",
              "10       linlin  ...                                   3683.0\n",
              "11           qq  ...                               15351959.6\n",
              "12           qq  ...                               16417918.6\n",
              "13           qq  ...                               17483877.5\n",
              "14           qq  ...                               18549836.5\n",
              "15           qq  ...                               19615795.4\n",
              "16           qq  ...                               20681754.4\n",
              "17           qq  ...                               21747713.3\n",
              "18           qq  ...                               22813672.3\n",
              "19           qq  ...                               23879631.2\n",
              "20           qq  ...                               24945590.2\n",
              "21           qq  ...                               26011549.1\n",
              "\n",
              "[22 rows x 5 columns]"
            ]
          },
          "metadata": {},
          "execution_count": 44
        }
      ]
    },
    {
      "cell_type": "markdown",
      "metadata": {
        "id": "gFuMNNhwmDDH"
      },
      "source": [
        "## Test Part\n",
        "Now we test if the markdown values calculated previously also decreases the AMC for the testset.\n"
      ]
    },
    {
      "cell_type": "code",
      "metadata": {
        "id": "Jy3amhlijD9V"
      },
      "source": [
        "test_apply = pd.DataFrame(columns = ['predicted_price', 'actual_price'])\n",
        "test_apply[\"predicted_price\"] = model.predict(X_test)\n",
        "test_apply[\"actual_price\"] = y_test\n",
        "\n",
        "# Rverse Box-Cox Transformation\n",
        "test_apply[\"predicted_price\"] = pt.inverse_transform(test_apply[[\"predicted_price\"]])\n",
        "test_apply[\"actual_price\"] = pt.inverse_transform(test_apply[[\"actual_price\"]])"
      ],
      "execution_count": 45,
      "outputs": []
    },
    {
      "cell_type": "code",
      "metadata": {
        "id": "hiJPJvKEfUy_"
      },
      "source": [
        "def AMCosts_test(ratio, md, whichCostFunction):\n",
        "\n",
        "  if whichCostFunction ==\"linlin\":\n",
        "    test_apply[\"MispredictionCosts\"] = test_apply.apply(lambda x: linlin(ratio, md, x[\"actual_price\"], x[\"predicted_price\"]),axis=1)\n",
        "    AverageMispredictionCosts = test_apply[\"MispredictionCosts\"].mean()\n",
        "    \n",
        "  elif whichCostFunction ==\"qq\":\n",
        "    test_apply[\"MispredictionCosts\"] = test_apply.apply(lambda x: qq(ratio, md, x[\"actual_price\"], x[\"predicted_price\"]),axis=1)\n",
        "    AverageMispredictionCosts = test_apply[\"MispredictionCosts\"].mean()\n",
        "\n",
        "  elif whichCostFunction ==\"linex\":\n",
        "    test_apply[\"MispredictionCosts\"] = test_apply.apply(lambda x: linex(ratio, md, x[\"actual_price\"], x[\"predicted_price\"]),axis=1)\n",
        "    AverageMispredictionCosts = test_apply[\"MispredictionCosts\"].mean()\n",
        "\n",
        "  else:\n",
        "      print(\"set a value for the variable whichCostFunction to chose the cost function\")\n",
        "\n",
        "  return AverageMispredictionCosts"
      ],
      "execution_count": 46,
      "outputs": []
    },
    {
      "cell_type": "code",
      "metadata": {
        "id": "z6CMfHbnjaKZ"
      },
      "source": [
        "results_testset = pd.DataFrame(columns=['CostFunction','Ratio','Markdown', 'Average Misprediction Costs', 'Average Misprediction Costs with md = 0'])\n",
        "\n",
        "for index, row in results.iterrows():\n",
        "  AMC_testset = AMCosts_test(row['Ratio'], row['Markdown'], row['CostFunction'])\n",
        "  results_testset = results_testset.append({'CostFunction': row['CostFunction'], 'Ratio': row['Ratio'], 'Markdown': row['Markdown'], 'Average Misprediction Costs':AMC_testset, 'Average Misprediction Costs with md = 0':AMCosts_test(row['Ratio'], 0, row['CostFunction']) }, ignore_index=True)\n",
        "  #print(\"ratio: \" + str(r) + \" markdown: \" + str(m) + \" the average misprediction costs is: \" + str(AMC_testset) + \" The AMC for md = 0 is: \" + str(AMCosts_test(r, 0)))"
      ],
      "execution_count": 47,
      "outputs": []
    },
    {
      "cell_type": "code",
      "metadata": {
        "colab": {
          "base_uri": "https://localhost:8080/",
          "height": 718
        },
        "id": "QYAAFR4zSsNM",
        "outputId": "b286b7e4-9640-4cf2-9f4f-dc35e6d078db"
      },
      "source": [
        "results_testset.round(1)\n"
      ],
      "execution_count": 48,
      "outputs": [
        {
          "output_type": "execute_result",
          "data": {
            "text/html": [
              "<div>\n",
              "<style scoped>\n",
              "    .dataframe tbody tr th:only-of-type {\n",
              "        vertical-align: middle;\n",
              "    }\n",
              "\n",
              "    .dataframe tbody tr th {\n",
              "        vertical-align: top;\n",
              "    }\n",
              "\n",
              "    .dataframe thead th {\n",
              "        text-align: right;\n",
              "    }\n",
              "</style>\n",
              "<table border=\"1\" class=\"dataframe\">\n",
              "  <thead>\n",
              "    <tr style=\"text-align: right;\">\n",
              "      <th></th>\n",
              "      <th>CostFunction</th>\n",
              "      <th>Ratio</th>\n",
              "      <th>Markdown</th>\n",
              "      <th>Average Misprediction Costs</th>\n",
              "      <th>Average Misprediction Costs with md = 0</th>\n",
              "    </tr>\n",
              "  </thead>\n",
              "  <tbody>\n",
              "    <tr>\n",
              "      <th>0</th>\n",
              "      <td>linlin</td>\n",
              "      <td>1.0</td>\n",
              "      <td>67</td>\n",
              "      <td>2334.5</td>\n",
              "      <td>2335.6</td>\n",
              "    </tr>\n",
              "    <tr>\n",
              "      <th>1</th>\n",
              "      <td>linlin</td>\n",
              "      <td>1.1</td>\n",
              "      <td>194</td>\n",
              "      <td>2459.2</td>\n",
              "      <td>2467.4</td>\n",
              "    </tr>\n",
              "    <tr>\n",
              "      <th>2</th>\n",
              "      <td>linlin</td>\n",
              "      <td>1.2</td>\n",
              "      <td>309</td>\n",
              "      <td>2577.9</td>\n",
              "      <td>2599.1</td>\n",
              "    </tr>\n",
              "    <tr>\n",
              "      <th>3</th>\n",
              "      <td>linlin</td>\n",
              "      <td>1.3</td>\n",
              "      <td>418</td>\n",
              "      <td>2691.2</td>\n",
              "      <td>2730.9</td>\n",
              "    </tr>\n",
              "    <tr>\n",
              "      <th>4</th>\n",
              "      <td>linlin</td>\n",
              "      <td>1.4</td>\n",
              "      <td>518</td>\n",
              "      <td>2799.7</td>\n",
              "      <td>2862.7</td>\n",
              "    </tr>\n",
              "    <tr>\n",
              "      <th>5</th>\n",
              "      <td>linlin</td>\n",
              "      <td>1.5</td>\n",
              "      <td>620</td>\n",
              "      <td>2903.9</td>\n",
              "      <td>2994.5</td>\n",
              "    </tr>\n",
              "    <tr>\n",
              "      <th>6</th>\n",
              "      <td>linlin</td>\n",
              "      <td>1.6</td>\n",
              "      <td>711</td>\n",
              "      <td>3004.7</td>\n",
              "      <td>3126.3</td>\n",
              "    </tr>\n",
              "    <tr>\n",
              "      <th>7</th>\n",
              "      <td>linlin</td>\n",
              "      <td>1.7</td>\n",
              "      <td>794</td>\n",
              "      <td>3102.0</td>\n",
              "      <td>3258.1</td>\n",
              "    </tr>\n",
              "    <tr>\n",
              "      <th>8</th>\n",
              "      <td>linlin</td>\n",
              "      <td>1.8</td>\n",
              "      <td>872</td>\n",
              "      <td>3196.1</td>\n",
              "      <td>3389.9</td>\n",
              "    </tr>\n",
              "    <tr>\n",
              "      <th>9</th>\n",
              "      <td>linlin</td>\n",
              "      <td>1.9</td>\n",
              "      <td>944</td>\n",
              "      <td>3287.4</td>\n",
              "      <td>3521.7</td>\n",
              "    </tr>\n",
              "    <tr>\n",
              "      <th>10</th>\n",
              "      <td>linlin</td>\n",
              "      <td>2.0</td>\n",
              "      <td>1022</td>\n",
              "      <td>3375.8</td>\n",
              "      <td>3653.5</td>\n",
              "    </tr>\n",
              "    <tr>\n",
              "      <th>11</th>\n",
              "      <td>qq</td>\n",
              "      <td>1.0</td>\n",
              "      <td>292</td>\n",
              "      <td>15304414.5</td>\n",
              "      <td>15394501.2</td>\n",
              "    </tr>\n",
              "    <tr>\n",
              "      <th>12</th>\n",
              "      <td>qq</td>\n",
              "      <td>1.1</td>\n",
              "      <td>405</td>\n",
              "      <td>16254461.0</td>\n",
              "      <td>16432368.5</td>\n",
              "    </tr>\n",
              "    <tr>\n",
              "      <th>13</th>\n",
              "      <td>qq</td>\n",
              "      <td>1.2</td>\n",
              "      <td>509</td>\n",
              "      <td>17180365.0</td>\n",
              "      <td>17470235.7</td>\n",
              "    </tr>\n",
              "    <tr>\n",
              "      <th>14</th>\n",
              "      <td>qq</td>\n",
              "      <td>1.3</td>\n",
              "      <td>606</td>\n",
              "      <td>18084838.2</td>\n",
              "      <td>18508103.0</td>\n",
              "    </tr>\n",
              "    <tr>\n",
              "      <th>15</th>\n",
              "      <td>qq</td>\n",
              "      <td>1.4</td>\n",
              "      <td>697</td>\n",
              "      <td>18970099.6</td>\n",
              "      <td>19545970.3</td>\n",
              "    </tr>\n",
              "    <tr>\n",
              "      <th>16</th>\n",
              "      <td>qq</td>\n",
              "      <td>1.5</td>\n",
              "      <td>782</td>\n",
              "      <td>19837985.7</td>\n",
              "      <td>20583837.5</td>\n",
              "    </tr>\n",
              "    <tr>\n",
              "      <th>17</th>\n",
              "      <td>qq</td>\n",
              "      <td>1.6</td>\n",
              "      <td>862</td>\n",
              "      <td>20690035.7</td>\n",
              "      <td>21621704.8</td>\n",
              "    </tr>\n",
              "    <tr>\n",
              "      <th>18</th>\n",
              "      <td>qq</td>\n",
              "      <td>1.7</td>\n",
              "      <td>938</td>\n",
              "      <td>21527560.5</td>\n",
              "      <td>22659572.0</td>\n",
              "    </tr>\n",
              "    <tr>\n",
              "      <th>19</th>\n",
              "      <td>qq</td>\n",
              "      <td>1.8</td>\n",
              "      <td>1011</td>\n",
              "      <td>22351689.8</td>\n",
              "      <td>23697439.3</td>\n",
              "    </tr>\n",
              "    <tr>\n",
              "      <th>20</th>\n",
              "      <td>qq</td>\n",
              "      <td>1.9</td>\n",
              "      <td>1080</td>\n",
              "      <td>23163408.4</td>\n",
              "      <td>24735306.6</td>\n",
              "    </tr>\n",
              "    <tr>\n",
              "      <th>21</th>\n",
              "      <td>qq</td>\n",
              "      <td>2.0</td>\n",
              "      <td>1147</td>\n",
              "      <td>23963573.6</td>\n",
              "      <td>25773173.8</td>\n",
              "    </tr>\n",
              "  </tbody>\n",
              "</table>\n",
              "</div>"
            ],
            "text/plain": [
              "   CostFunction  ...  Average Misprediction Costs with md = 0\n",
              "0        linlin  ...                                   2335.6\n",
              "1        linlin  ...                                   2467.4\n",
              "2        linlin  ...                                   2599.1\n",
              "3        linlin  ...                                   2730.9\n",
              "4        linlin  ...                                   2862.7\n",
              "5        linlin  ...                                   2994.5\n",
              "6        linlin  ...                                   3126.3\n",
              "7        linlin  ...                                   3258.1\n",
              "8        linlin  ...                                   3389.9\n",
              "9        linlin  ...                                   3521.7\n",
              "10       linlin  ...                                   3653.5\n",
              "11           qq  ...                               15394501.2\n",
              "12           qq  ...                               16432368.5\n",
              "13           qq  ...                               17470235.7\n",
              "14           qq  ...                               18508103.0\n",
              "15           qq  ...                               19545970.3\n",
              "16           qq  ...                               20583837.5\n",
              "17           qq  ...                               21621704.8\n",
              "18           qq  ...                               22659572.0\n",
              "19           qq  ...                               23697439.3\n",
              "20           qq  ...                               24735306.6\n",
              "21           qq  ...                               25773173.8\n",
              "\n",
              "[22 rows x 5 columns]"
            ]
          },
          "metadata": {},
          "execution_count": 48
        }
      ]
    },
    {
      "cell_type": "code",
      "metadata": {
        "id": "aoXneryh1gI_"
      },
      "source": [
        "results_testset.to_excel(\"results.xlsx\")"
      ],
      "execution_count": 49,
      "outputs": []
    }
  ]
}
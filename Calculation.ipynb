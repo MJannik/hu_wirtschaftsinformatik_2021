{
  "nbformat": 4,
  "nbformat_minor": 0,
  "metadata": {
    "kernelspec": {
      "display_name": "Python 3",
      "language": "python",
      "name": "python3"
    },
    "language_info": {
      "codemirror_mode": {
        "name": "ipython",
        "version": 3
      },
      "file_extension": ".py",
      "mimetype": "text/x-python",
      "name": "python",
      "nbconvert_exporter": "python",
      "pygments_lexer": "ipython3",
      "version": "3.7.6"
    },
    "colab": {
      "name": "Calculation.ipynb",
      "provenance": [],
      "collapsed_sections": [],
      "include_colab_link": true
    }
  },
  "cells": [
    {
      "cell_type": "markdown",
      "metadata": {
        "id": "view-in-github",
        "colab_type": "text"
      },
      "source": [
        "<a href=\"https://colab.research.google.com/github/MJannik/hu_wirtschaftsinformatik_2021/blob/main/Calculation.ipynb\" target=\"_parent\"><img src=\"https://colab.research.google.com/assets/colab-badge.svg\" alt=\"Open In Colab\"/></a>"
      ]
    },
    {
      "cell_type": "markdown",
      "metadata": {
        "id": "WpXYwaTzgVqm"
      },
      "source": [
        "# Asymetric Costs in Regression Models: Markdown Method"
      ]
    },
    {
      "cell_type": "markdown",
      "metadata": {
        "id": "Vm94H4oQgCcp"
      },
      "source": [
        "This Cell imports important libraries like \"pandas\" or \"numphy\". It also asks for permission to connect to your GDrive. After running the cell, you have to click on the link and insert the code."
      ]
    },
    {
      "cell_type": "code",
      "metadata": {
        "id": "gZil6i4J3EN9",
        "colab": {
          "base_uri": "https://localhost:8080/"
        },
        "outputId": "68486a0d-2581-447b-adae-207087592c64"
      },
      "source": [
        "\n",
        "import pandas as pd\n",
        "import numpy as np\n",
        "import statsmodels.api as sm\n",
        "from sklearn.preprocessing import OrdinalEncoder\n",
        "\n",
        "from google.colab import drive\n",
        "drive.mount('/content/drive')"
      ],
      "execution_count": 1,
      "outputs": [
        {
          "output_type": "stream",
          "text": [
            "/usr/local/lib/python3.7/dist-packages/statsmodels/tools/_testing.py:19: FutureWarning: pandas.util.testing is deprecated. Use the functions in the public API at pandas.testing instead.\n",
            "  import pandas.util.testing as tm\n"
          ],
          "name": "stderr"
        },
        {
          "output_type": "stream",
          "text": [
            "Mounted at /content/drive\n"
          ],
          "name": "stdout"
        }
      ]
    },
    {
      "cell_type": "markdown",
      "metadata": {
        "id": "XGqs1ZUdfQTF"
      },
      "source": [
        "The next cell imports the car data into this notebook. **IMPORTANT:** Before running the next cell, go to the \"Bachelorseminar Wirtschaftsinformatik\" folder in GDrive and click \"Add shortcut to Drive\". This has to be done because Google Collab can only acces folders on YOUR Drive and not on a shared Drive."
      ]
    },
    {
      "cell_type": "code",
      "metadata": {
        "id": "cjeSCVEN3EOI"
      },
      "source": [
        "df = pd.read_csv(\"/content/drive/MyDrive/Bachelorseminar Wirtschaftsinformatik/semWI_usedCar.csv\")\n",
        "#df = df.sample(1000)"
      ],
      "execution_count": 2,
      "outputs": []
    },
    {
      "cell_type": "code",
      "metadata": {
        "colab": {
          "base_uri": "https://localhost:8080/",
          "height": 419
        },
        "id": "VPQfHJYma361",
        "outputId": "6fe32b5f-ec20-489c-9430-ff004915159a"
      },
      "source": [
        "df"
      ],
      "execution_count": 3,
      "outputs": [
        {
          "output_type": "execute_result",
          "data": {
            "text/html": [
              "<div>\n",
              "<style scoped>\n",
              "    .dataframe tbody tr th:only-of-type {\n",
              "        vertical-align: middle;\n",
              "    }\n",
              "\n",
              "    .dataframe tbody tr th {\n",
              "        vertical-align: top;\n",
              "    }\n",
              "\n",
              "    .dataframe thead th {\n",
              "        text-align: right;\n",
              "    }\n",
              "</style>\n",
              "<table border=\"1\" class=\"dataframe\">\n",
              "  <thead>\n",
              "    <tr style=\"text-align: right;\">\n",
              "      <th></th>\n",
              "      <th>id</th>\n",
              "      <th>model</th>\n",
              "      <th>year</th>\n",
              "      <th>price</th>\n",
              "      <th>transmission</th>\n",
              "      <th>mileage</th>\n",
              "      <th>fuelType</th>\n",
              "      <th>tax</th>\n",
              "      <th>mpg</th>\n",
              "      <th>engineSize</th>\n",
              "      <th>brand</th>\n",
              "    </tr>\n",
              "  </thead>\n",
              "  <tbody>\n",
              "    <tr>\n",
              "      <th>0</th>\n",
              "      <td>0</td>\n",
              "      <td>A1</td>\n",
              "      <td>2017</td>\n",
              "      <td>12500</td>\n",
              "      <td>Manual</td>\n",
              "      <td>15735</td>\n",
              "      <td>Petrol</td>\n",
              "      <td>150</td>\n",
              "      <td>55.4</td>\n",
              "      <td>1.4</td>\n",
              "      <td>audi</td>\n",
              "    </tr>\n",
              "    <tr>\n",
              "      <th>1</th>\n",
              "      <td>1</td>\n",
              "      <td>A6</td>\n",
              "      <td>2016</td>\n",
              "      <td>16500</td>\n",
              "      <td>Automatic</td>\n",
              "      <td>36203</td>\n",
              "      <td>Diesel</td>\n",
              "      <td>20</td>\n",
              "      <td>64.2</td>\n",
              "      <td>2.0</td>\n",
              "      <td>audi</td>\n",
              "    </tr>\n",
              "    <tr>\n",
              "      <th>2</th>\n",
              "      <td>2</td>\n",
              "      <td>A1</td>\n",
              "      <td>2016</td>\n",
              "      <td>11000</td>\n",
              "      <td>Manual</td>\n",
              "      <td>29946</td>\n",
              "      <td>Petrol</td>\n",
              "      <td>30</td>\n",
              "      <td>55.4</td>\n",
              "      <td>1.4</td>\n",
              "      <td>audi</td>\n",
              "    </tr>\n",
              "    <tr>\n",
              "      <th>3</th>\n",
              "      <td>3</td>\n",
              "      <td>A4</td>\n",
              "      <td>2017</td>\n",
              "      <td>16800</td>\n",
              "      <td>Automatic</td>\n",
              "      <td>25952</td>\n",
              "      <td>Diesel</td>\n",
              "      <td>145</td>\n",
              "      <td>67.3</td>\n",
              "      <td>2.0</td>\n",
              "      <td>audi</td>\n",
              "    </tr>\n",
              "    <tr>\n",
              "      <th>4</th>\n",
              "      <td>4</td>\n",
              "      <td>A3</td>\n",
              "      <td>2019</td>\n",
              "      <td>17300</td>\n",
              "      <td>Manual</td>\n",
              "      <td>1998</td>\n",
              "      <td>Petrol</td>\n",
              "      <td>145</td>\n",
              "      <td>49.6</td>\n",
              "      <td>1.0</td>\n",
              "      <td>audi</td>\n",
              "    </tr>\n",
              "    <tr>\n",
              "      <th>...</th>\n",
              "      <td>...</td>\n",
              "      <td>...</td>\n",
              "      <td>...</td>\n",
              "      <td>...</td>\n",
              "      <td>...</td>\n",
              "      <td>...</td>\n",
              "      <td>...</td>\n",
              "      <td>...</td>\n",
              "      <td>...</td>\n",
              "      <td>...</td>\n",
              "      <td>...</td>\n",
              "    </tr>\n",
              "    <tr>\n",
              "      <th>99182</th>\n",
              "      <td>15152</td>\n",
              "      <td>Eos</td>\n",
              "      <td>2012</td>\n",
              "      <td>5990</td>\n",
              "      <td>Manual</td>\n",
              "      <td>74000</td>\n",
              "      <td>Diesel</td>\n",
              "      <td>125</td>\n",
              "      <td>58.9</td>\n",
              "      <td>2.0</td>\n",
              "      <td>vw</td>\n",
              "    </tr>\n",
              "    <tr>\n",
              "      <th>99183</th>\n",
              "      <td>15153</td>\n",
              "      <td>Fox</td>\n",
              "      <td>2008</td>\n",
              "      <td>1799</td>\n",
              "      <td>Manual</td>\n",
              "      <td>88102</td>\n",
              "      <td>Petrol</td>\n",
              "      <td>145</td>\n",
              "      <td>46.3</td>\n",
              "      <td>1.2</td>\n",
              "      <td>vw</td>\n",
              "    </tr>\n",
              "    <tr>\n",
              "      <th>99184</th>\n",
              "      <td>15154</td>\n",
              "      <td>Fox</td>\n",
              "      <td>2009</td>\n",
              "      <td>1590</td>\n",
              "      <td>Manual</td>\n",
              "      <td>70000</td>\n",
              "      <td>Petrol</td>\n",
              "      <td>200</td>\n",
              "      <td>42.0</td>\n",
              "      <td>1.4</td>\n",
              "      <td>vw</td>\n",
              "    </tr>\n",
              "    <tr>\n",
              "      <th>99185</th>\n",
              "      <td>15155</td>\n",
              "      <td>Fox</td>\n",
              "      <td>2006</td>\n",
              "      <td>1250</td>\n",
              "      <td>Manual</td>\n",
              "      <td>82704</td>\n",
              "      <td>Petrol</td>\n",
              "      <td>150</td>\n",
              "      <td>46.3</td>\n",
              "      <td>1.2</td>\n",
              "      <td>vw</td>\n",
              "    </tr>\n",
              "    <tr>\n",
              "      <th>99186</th>\n",
              "      <td>15156</td>\n",
              "      <td>Fox</td>\n",
              "      <td>2007</td>\n",
              "      <td>2295</td>\n",
              "      <td>Manual</td>\n",
              "      <td>74000</td>\n",
              "      <td>Petrol</td>\n",
              "      <td>145</td>\n",
              "      <td>46.3</td>\n",
              "      <td>1.2</td>\n",
              "      <td>vw</td>\n",
              "    </tr>\n",
              "  </tbody>\n",
              "</table>\n",
              "<p>99187 rows × 11 columns</p>\n",
              "</div>"
            ],
            "text/plain": [
              "          id model  year  price  ...  tax   mpg engineSize  brand\n",
              "0          0    A1  2017  12500  ...  150  55.4        1.4   audi\n",
              "1          1    A6  2016  16500  ...   20  64.2        2.0   audi\n",
              "2          2    A1  2016  11000  ...   30  55.4        1.4   audi\n",
              "3          3    A4  2017  16800  ...  145  67.3        2.0   audi\n",
              "4          4    A3  2019  17300  ...  145  49.6        1.0   audi\n",
              "...      ...   ...   ...    ...  ...  ...   ...        ...    ...\n",
              "99182  15152   Eos  2012   5990  ...  125  58.9        2.0     vw\n",
              "99183  15153   Fox  2008   1799  ...  145  46.3        1.2     vw\n",
              "99184  15154   Fox  2009   1590  ...  200  42.0        1.4     vw\n",
              "99185  15155   Fox  2006   1250  ...  150  46.3        1.2     vw\n",
              "99186  15156   Fox  2007   2295  ...  145  46.3        1.2     vw\n",
              "\n",
              "[99187 rows x 11 columns]"
            ]
          },
          "metadata": {
            "tags": []
          },
          "execution_count": 3
        }
      ]
    },
    {
      "cell_type": "markdown",
      "metadata": {
        "id": "15LZU0QbgbbE"
      },
      "source": [
        "## Data Preperation\n",
        "This cell uses the function \"OrdinalEncoder\" to transform the categorial variables like car brand into numbers."
      ]
    },
    {
      "cell_type": "code",
      "metadata": {
        "id": "teo1pqQF3EOI"
      },
      "source": [
        "enc = OrdinalEncoder()\n",
        "enc.fit(df[['model', 'transmission', 'fuelType', 'engineSize', 'brand']])\n",
        "df[['model', 'transmission', 'fuelType', 'engineSize', 'brand']] = enc.transform(df[['model', 'transmission', 'fuelType', 'engineSize', 'brand']])"
      ],
      "execution_count": 4,
      "outputs": []
    },
    {
      "cell_type": "markdown",
      "metadata": {
        "id": "uTNnfGGKg6XF"
      },
      "source": [
        "This cell splits the data into training, validation and test set. For this, it uses the numphy function split."
      ]
    },
    {
      "cell_type": "code",
      "metadata": {
        "id": "PgC85dUi3EOJ"
      },
      "source": [
        "train, validate, test = \\\n",
        "              np.split(df.sample(frac=1, random_state=42), \n",
        "                       [int(.6*len(df)), int(.8*len(df))])"
      ],
      "execution_count": 5,
      "outputs": []
    },
    {
      "cell_type": "code",
      "metadata": {
        "colab": {
          "base_uri": "https://localhost:8080/",
          "height": 419
        },
        "id": "sOSqHeRkfJnk",
        "outputId": "4a811da7-c647-4268-b89f-fb8d45e7e47a"
      },
      "source": [
        "train"
      ],
      "execution_count": 6,
      "outputs": [
        {
          "output_type": "execute_result",
          "data": {
            "text/html": [
              "<div>\n",
              "<style scoped>\n",
              "    .dataframe tbody tr th:only-of-type {\n",
              "        vertical-align: middle;\n",
              "    }\n",
              "\n",
              "    .dataframe tbody tr th {\n",
              "        vertical-align: top;\n",
              "    }\n",
              "\n",
              "    .dataframe thead th {\n",
              "        text-align: right;\n",
              "    }\n",
              "</style>\n",
              "<table border=\"1\" class=\"dataframe\">\n",
              "  <thead>\n",
              "    <tr style=\"text-align: right;\">\n",
              "      <th></th>\n",
              "      <th>id</th>\n",
              "      <th>model</th>\n",
              "      <th>year</th>\n",
              "      <th>price</th>\n",
              "      <th>transmission</th>\n",
              "      <th>mileage</th>\n",
              "      <th>fuelType</th>\n",
              "      <th>tax</th>\n",
              "      <th>mpg</th>\n",
              "      <th>engineSize</th>\n",
              "      <th>brand</th>\n",
              "    </tr>\n",
              "  </thead>\n",
              "  <tbody>\n",
              "    <tr>\n",
              "      <th>31981</th>\n",
              "      <td>10532</td>\n",
              "      <td>60.0</td>\n",
              "      <td>2018</td>\n",
              "      <td>9679</td>\n",
              "      <td>1.0</td>\n",
              "      <td>14044</td>\n",
              "      <td>4.0</td>\n",
              "      <td>150</td>\n",
              "      <td>64.2</td>\n",
              "      <td>3.0</td>\n",
              "      <td>2.0</td>\n",
              "    </tr>\n",
              "    <tr>\n",
              "      <th>62387</th>\n",
              "      <td>4994</td>\n",
              "      <td>49.0</td>\n",
              "      <td>2017</td>\n",
              "      <td>6995</td>\n",
              "      <td>1.0</td>\n",
              "      <td>20179</td>\n",
              "      <td>4.0</td>\n",
              "      <td>150</td>\n",
              "      <td>68.9</td>\n",
              "      <td>2.0</td>\n",
              "      <td>5.0</td>\n",
              "    </tr>\n",
              "    <tr>\n",
              "      <th>30462</th>\n",
              "      <td>9013</td>\n",
              "      <td>110.0</td>\n",
              "      <td>2019</td>\n",
              "      <td>19500</td>\n",
              "      <td>1.0</td>\n",
              "      <td>15</td>\n",
              "      <td>0.0</td>\n",
              "      <td>145</td>\n",
              "      <td>65.7</td>\n",
              "      <td>12.0</td>\n",
              "      <td>2.0</td>\n",
              "    </tr>\n",
              "    <tr>\n",
              "      <th>21504</th>\n",
              "      <td>55</td>\n",
              "      <td>162.0</td>\n",
              "      <td>2018</td>\n",
              "      <td>19995</td>\n",
              "      <td>0.0</td>\n",
              "      <td>24568</td>\n",
              "      <td>0.0</td>\n",
              "      <td>145</td>\n",
              "      <td>31.7</td>\n",
              "      <td>12.0</td>\n",
              "      <td>2.0</td>\n",
              "    </tr>\n",
              "    <tr>\n",
              "      <th>26653</th>\n",
              "      <td>5204</td>\n",
              "      <td>77.0</td>\n",
              "      <td>2017</td>\n",
              "      <td>11891</td>\n",
              "      <td>1.0</td>\n",
              "      <td>11373</td>\n",
              "      <td>4.0</td>\n",
              "      <td>30</td>\n",
              "      <td>54.3</td>\n",
              "      <td>2.0</td>\n",
              "      <td>2.0</td>\n",
              "    </tr>\n",
              "    <tr>\n",
              "      <th>...</th>\n",
              "      <td>...</td>\n",
              "      <td>...</td>\n",
              "      <td>...</td>\n",
              "      <td>...</td>\n",
              "      <td>...</td>\n",
              "      <td>...</td>\n",
              "      <td>...</td>\n",
              "      <td>...</td>\n",
              "      <td>...</td>\n",
              "      <td>...</td>\n",
              "      <td>...</td>\n",
              "    </tr>\n",
              "    <tr>\n",
              "      <th>81004</th>\n",
              "      <td>10606</td>\n",
              "      <td>187.0</td>\n",
              "      <td>2017</td>\n",
              "      <td>10170</td>\n",
              "      <td>1.0</td>\n",
              "      <td>43457</td>\n",
              "      <td>4.0</td>\n",
              "      <td>200</td>\n",
              "      <td>42.2</td>\n",
              "      <td>6.0</td>\n",
              "      <td>7.0</td>\n",
              "    </tr>\n",
              "    <tr>\n",
              "      <th>34806</th>\n",
              "      <td>13357</td>\n",
              "      <td>56.0</td>\n",
              "      <td>2018</td>\n",
              "      <td>32000</td>\n",
              "      <td>0.0</td>\n",
              "      <td>11007</td>\n",
              "      <td>0.0</td>\n",
              "      <td>145</td>\n",
              "      <td>37.2</td>\n",
              "      <td>12.0</td>\n",
              "      <td>2.0</td>\n",
              "    </tr>\n",
              "    <tr>\n",
              "      <th>56292</th>\n",
              "      <td>12018</td>\n",
              "      <td>32.0</td>\n",
              "      <td>2008</td>\n",
              "      <td>3995</td>\n",
              "      <td>0.0</td>\n",
              "      <td>123000</td>\n",
              "      <td>0.0</td>\n",
              "      <td>265</td>\n",
              "      <td>42.2</td>\n",
              "      <td>13.0</td>\n",
              "      <td>4.0</td>\n",
              "    </tr>\n",
              "    <tr>\n",
              "      <th>77008</th>\n",
              "      <td>6610</td>\n",
              "      <td>172.0</td>\n",
              "      <td>2015</td>\n",
              "      <td>5750</td>\n",
              "      <td>1.0</td>\n",
              "      <td>20451</td>\n",
              "      <td>4.0</td>\n",
              "      <td>20</td>\n",
              "      <td>62.8</td>\n",
              "      <td>2.0</td>\n",
              "      <td>7.0</td>\n",
              "    </tr>\n",
              "    <tr>\n",
              "      <th>69324</th>\n",
              "      <td>5664</td>\n",
              "      <td>33.0</td>\n",
              "      <td>2019</td>\n",
              "      <td>23995</td>\n",
              "      <td>0.0</td>\n",
              "      <td>10880</td>\n",
              "      <td>2.0</td>\n",
              "      <td>135</td>\n",
              "      <td>74.3</td>\n",
              "      <td>10.0</td>\n",
              "      <td>6.0</td>\n",
              "    </tr>\n",
              "  </tbody>\n",
              "</table>\n",
              "<p>59512 rows × 11 columns</p>\n",
              "</div>"
            ],
            "text/plain": [
              "          id  model  year  price  ...  tax   mpg  engineSize  brand\n",
              "31981  10532   60.0  2018   9679  ...  150  64.2         3.0    2.0\n",
              "62387   4994   49.0  2017   6995  ...  150  68.9         2.0    5.0\n",
              "30462   9013  110.0  2019  19500  ...  145  65.7        12.0    2.0\n",
              "21504     55  162.0  2018  19995  ...  145  31.7        12.0    2.0\n",
              "26653   5204   77.0  2017  11891  ...   30  54.3         2.0    2.0\n",
              "...      ...    ...   ...    ...  ...  ...   ...         ...    ...\n",
              "81004  10606  187.0  2017  10170  ...  200  42.2         6.0    7.0\n",
              "34806  13357   56.0  2018  32000  ...  145  37.2        12.0    2.0\n",
              "56292  12018   32.0  2008   3995  ...  265  42.2        13.0    4.0\n",
              "77008   6610  172.0  2015   5750  ...   20  62.8         2.0    7.0\n",
              "69324   5664   33.0  2019  23995  ...  135  74.3        10.0    6.0\n",
              "\n",
              "[59512 rows x 11 columns]"
            ]
          },
          "metadata": {
            "tags": []
          },
          "execution_count": 6
        }
      ]
    },
    {
      "cell_type": "markdown",
      "metadata": {
        "id": "XCR9RV01hJd8"
      },
      "source": [
        "This cell creates two lists. One for the dependent and one for the independent variables of the training dataset. "
      ]
    },
    {
      "cell_type": "code",
      "metadata": {
        "id": "ZudnPoJy3EOM"
      },
      "source": [
        "X_train = train[['model', 'year', 'transmission', 'mileage', 'fuelType', 'tax', 'mpg', 'engineSize']]\n",
        "y_train = train[['price']]"
      ],
      "execution_count": 7,
      "outputs": []
    },
    {
      "cell_type": "markdown",
      "metadata": {
        "id": "LH5_4QRahavR"
      },
      "source": [
        "This cell does the same for the validation set.\n"
      ]
    },
    {
      "cell_type": "code",
      "metadata": {
        "id": "LeVdm2IN3EOM"
      },
      "source": [
        "X_validate = validate[['model', 'year', 'transmission', 'mileage', 'fuelType', 'tax', 'mpg', 'engineSize']]\n",
        "y_validate = validate[['price']]"
      ],
      "execution_count": 8,
      "outputs": []
    },
    {
      "cell_type": "markdown",
      "metadata": {
        "id": "M6VbszO1ilvi"
      },
      "source": [
        "This cell does the same for the test set.\n"
      ]
    },
    {
      "cell_type": "code",
      "metadata": {
        "id": "S4FkuV3GigOM"
      },
      "source": [
        "X_test = test[['model', 'year', 'transmission', 'mileage', 'fuelType', 'tax', 'mpg', 'engineSize']]\n",
        "y_test = test[['price']]"
      ],
      "execution_count": 9,
      "outputs": []
    },
    {
      "cell_type": "markdown",
      "metadata": {
        "id": "V8oX7UVJhjIo"
      },
      "source": [
        "## Estimate Model\n",
        "This cell uses the statsmodels library to run an OLS regression on the training dataset. Below you can see the results of the regression."
      ]
    },
    {
      "cell_type": "code",
      "metadata": {
        "id": "eQbVR2Xh3EON",
        "colab": {
          "base_uri": "https://localhost:8080/",
          "height": 604
        },
        "outputId": "081c7d61-72d9-4e82-ed97-bc9e7fbf1eee"
      },
      "source": [
        "model = sm.OLS(y_train, X_train.astype(float)).fit()\n",
        "predictions = model.predict(X_train) # make the predictions by the model\n",
        "\n",
        "# Print out the statistics\n",
        "model.summary()"
      ],
      "execution_count": 10,
      "outputs": [
        {
          "output_type": "execute_result",
          "data": {
            "text/html": [
              "<table class=\"simpletable\">\n",
              "<caption>OLS Regression Results</caption>\n",
              "<tr>\n",
              "  <th>Dep. Variable:</th>          <td>price</td>      <th>  R-squared (uncentered):</th>       <td>   0.911</td>  \n",
              "</tr>\n",
              "<tr>\n",
              "  <th>Model:</th>                   <td>OLS</td>       <th>  Adj. R-squared (uncentered):</th>  <td>   0.911</td>  \n",
              "</tr>\n",
              "<tr>\n",
              "  <th>Method:</th>             <td>Least Squares</td>  <th>  F-statistic:       </th>           <td>7.642e+04</td> \n",
              "</tr>\n",
              "<tr>\n",
              "  <th>Date:</th>             <td>Sun, 15 Aug 2021</td> <th>  Prob (F-statistic):</th>            <td>  0.00</td>   \n",
              "</tr>\n",
              "<tr>\n",
              "  <th>Time:</th>                 <td>15:38:47</td>     <th>  Log-Likelihood:    </th>          <td>-6.0007e+05</td>\n",
              "</tr>\n",
              "<tr>\n",
              "  <th>No. Observations:</th>      <td> 59512</td>      <th>  AIC:               </th>           <td>1.200e+06</td> \n",
              "</tr>\n",
              "<tr>\n",
              "  <th>Df Residuals:</th>          <td> 59504</td>      <th>  BIC:               </th>           <td>1.200e+06</td> \n",
              "</tr>\n",
              "<tr>\n",
              "  <th>Df Model:</th>              <td>     8</td>      <th>                     </th>               <td> </td>     \n",
              "</tr>\n",
              "<tr>\n",
              "  <th>Covariance Type:</th>      <td>nonrobust</td>    <th>                     </th>               <td> </td>     \n",
              "</tr>\n",
              "</table>\n",
              "<table class=\"simpletable\">\n",
              "<tr>\n",
              "        <td></td>          <th>coef</th>     <th>std err</th>      <th>t</th>      <th>P>|t|</th>  <th>[0.025</th>    <th>0.975]</th>  \n",
              "</tr>\n",
              "<tr>\n",
              "  <th>model</th>        <td>    4.4948</td> <td>    0.459</td> <td>    9.783</td> <td> 0.000</td> <td>    3.594</td> <td>    5.395</td>\n",
              "</tr>\n",
              "<tr>\n",
              "  <th>year</th>         <td>    5.0259</td> <td>    0.088</td> <td>   56.879</td> <td> 0.000</td> <td>    4.853</td> <td>    5.199</td>\n",
              "</tr>\n",
              "<tr>\n",
              "  <th>transmission</th> <td>  719.0322</td> <td>   23.831</td> <td>   30.173</td> <td> 0.000</td> <td>  672.324</td> <td>  765.740</td>\n",
              "</tr>\n",
              "<tr>\n",
              "  <th>mileage</th>      <td>   -0.2209</td> <td>    0.001</td> <td> -184.466</td> <td> 0.000</td> <td>   -0.223</td> <td>   -0.219</td>\n",
              "</tr>\n",
              "<tr>\n",
              "  <th>fuelType</th>     <td>  251.3500</td> <td>   16.628</td> <td>   15.116</td> <td> 0.000</td> <td>  218.759</td> <td>  283.941</td>\n",
              "</tr>\n",
              "<tr>\n",
              "  <th>tax</th>          <td>   -2.6051</td> <td>    0.444</td> <td>   -5.865</td> <td> 0.000</td> <td>   -3.476</td> <td>   -1.734</td>\n",
              "</tr>\n",
              "<tr>\n",
              "  <th>mpg</th>          <td>  -21.7673</td> <td>    1.804</td> <td>  -12.063</td> <td> 0.000</td> <td>  -25.304</td> <td>  -18.231</td>\n",
              "</tr>\n",
              "<tr>\n",
              "  <th>engineSize</th>   <td> 1341.6968</td> <td>    6.432</td> <td>  208.604</td> <td> 0.000</td> <td> 1329.090</td> <td> 1354.303</td>\n",
              "</tr>\n",
              "</table>\n",
              "<table class=\"simpletable\">\n",
              "<tr>\n",
              "  <th>Omnibus:</th>       <td>37822.952</td> <th>  Durbin-Watson:     </th>  <td>   1.995</td>  \n",
              "</tr>\n",
              "<tr>\n",
              "  <th>Prob(Omnibus):</th>  <td> 0.000</td>   <th>  Jarque-Bera (JB):  </th> <td>1682784.096</td>\n",
              "</tr>\n",
              "<tr>\n",
              "  <th>Skew:</th>           <td> 2.454</td>   <th>  Prob(JB):          </th>  <td>    0.00</td>  \n",
              "</tr>\n",
              "<tr>\n",
              "  <th>Kurtosis:</th>       <td>28.584</td>   <th>  Cond. No.          </th>  <td>3.14e+04</td>  \n",
              "</tr>\n",
              "</table><br/><br/>Warnings:<br/>[1] Standard Errors assume that the covariance matrix of the errors is correctly specified.<br/>[2] The condition number is large, 3.14e+04. This might indicate that there are<br/>strong multicollinearity or other numerical problems."
            ],
            "text/plain": [
              "<class 'statsmodels.iolib.summary.Summary'>\n",
              "\"\"\"\n",
              "                                 OLS Regression Results                                \n",
              "=======================================================================================\n",
              "Dep. Variable:                  price   R-squared (uncentered):                   0.911\n",
              "Model:                            OLS   Adj. R-squared (uncentered):              0.911\n",
              "Method:                 Least Squares   F-statistic:                          7.642e+04\n",
              "Date:                Sun, 15 Aug 2021   Prob (F-statistic):                        0.00\n",
              "Time:                        15:38:47   Log-Likelihood:                     -6.0007e+05\n",
              "No. Observations:               59512   AIC:                                  1.200e+06\n",
              "Df Residuals:                   59504   BIC:                                  1.200e+06\n",
              "Df Model:                           8                                                  \n",
              "Covariance Type:            nonrobust                                                  \n",
              "================================================================================\n",
              "                   coef    std err          t      P>|t|      [0.025      0.975]\n",
              "--------------------------------------------------------------------------------\n",
              "model            4.4948      0.459      9.783      0.000       3.594       5.395\n",
              "year             5.0259      0.088     56.879      0.000       4.853       5.199\n",
              "transmission   719.0322     23.831     30.173      0.000     672.324     765.740\n",
              "mileage         -0.2209      0.001   -184.466      0.000      -0.223      -0.219\n",
              "fuelType       251.3500     16.628     15.116      0.000     218.759     283.941\n",
              "tax             -2.6051      0.444     -5.865      0.000      -3.476      -1.734\n",
              "mpg            -21.7673      1.804    -12.063      0.000     -25.304     -18.231\n",
              "engineSize    1341.6968      6.432    208.604      0.000    1329.090    1354.303\n",
              "==============================================================================\n",
              "Omnibus:                    37822.952   Durbin-Watson:                   1.995\n",
              "Prob(Omnibus):                  0.000   Jarque-Bera (JB):          1682784.096\n",
              "Skew:                           2.454   Prob(JB):                         0.00\n",
              "Kurtosis:                      28.584   Cond. No.                     3.14e+04\n",
              "==============================================================================\n",
              "\n",
              "Warnings:\n",
              "[1] Standard Errors assume that the covariance matrix of the errors is correctly specified.\n",
              "[2] The condition number is large, 3.14e+04. This might indicate that there are\n",
              "strong multicollinearity or other numerical problems.\n",
              "\"\"\""
            ]
          },
          "metadata": {
            "tags": []
          },
          "execution_count": 10
        }
      ]
    },
    {
      "cell_type": "markdown",
      "metadata": {
        "id": "c9VkcxHkhwM5"
      },
      "source": [
        "## Apply Model\n",
        "This cell applies the model on the validation dataset. (It predicts the price for every car in the validation set)"
      ]
    },
    {
      "cell_type": "code",
      "metadata": {
        "id": "OYrgwO1k3EOO"
      },
      "source": [
        "validate_apply = pd.DataFrame(columns = ['predicted_price', 'actual_price'])\n",
        "validate_apply[\"predicted_price\"] = model.predict(X_validate)\n",
        "validate_apply[\"actual_price\"] = y_validate"
      ],
      "execution_count": 11,
      "outputs": []
    },
    {
      "cell_type": "code",
      "metadata": {
        "colab": {
          "base_uri": "https://localhost:8080/",
          "height": 419
        },
        "id": "-sZi4fmJbYaU",
        "outputId": "0676568a-79ef-436c-8794-98ed9739ff3e"
      },
      "source": [
        "validate_apply"
      ],
      "execution_count": 12,
      "outputs": [
        {
          "output_type": "execute_result",
          "data": {
            "text/html": [
              "<div>\n",
              "<style scoped>\n",
              "    .dataframe tbody tr th:only-of-type {\n",
              "        vertical-align: middle;\n",
              "    }\n",
              "\n",
              "    .dataframe tbody tr th {\n",
              "        vertical-align: top;\n",
              "    }\n",
              "\n",
              "    .dataframe thead th {\n",
              "        text-align: right;\n",
              "    }\n",
              "</style>\n",
              "<table border=\"1\" class=\"dataframe\">\n",
              "  <thead>\n",
              "    <tr style=\"text-align: right;\">\n",
              "      <th></th>\n",
              "      <th>predicted_price</th>\n",
              "      <th>actual_price</th>\n",
              "    </tr>\n",
              "  </thead>\n",
              "  <tbody>\n",
              "    <tr>\n",
              "      <th>44099</th>\n",
              "      <td>22116.489148</td>\n",
              "      <td>9495</td>\n",
              "    </tr>\n",
              "    <tr>\n",
              "      <th>16256</th>\n",
              "      <td>40394.245856</td>\n",
              "      <td>66991</td>\n",
              "    </tr>\n",
              "    <tr>\n",
              "      <th>3583</th>\n",
              "      <td>13065.004313</td>\n",
              "      <td>14495</td>\n",
              "    </tr>\n",
              "    <tr>\n",
              "      <th>79911</th>\n",
              "      <td>11363.653819</td>\n",
              "      <td>11900</td>\n",
              "    </tr>\n",
              "    <tr>\n",
              "      <th>84745</th>\n",
              "      <td>12554.076448</td>\n",
              "      <td>20990</td>\n",
              "    </tr>\n",
              "    <tr>\n",
              "      <th>...</th>\n",
              "      <td>...</td>\n",
              "      <td>...</td>\n",
              "    </tr>\n",
              "    <tr>\n",
              "      <th>67078</th>\n",
              "      <td>16593.173168</td>\n",
              "      <td>11599</td>\n",
              "    </tr>\n",
              "    <tr>\n",
              "      <th>74397</th>\n",
              "      <td>11708.656695</td>\n",
              "      <td>10300</td>\n",
              "    </tr>\n",
              "    <tr>\n",
              "      <th>45823</th>\n",
              "      <td>19522.023262</td>\n",
              "      <td>11850</td>\n",
              "    </tr>\n",
              "    <tr>\n",
              "      <th>44830</th>\n",
              "      <td>37452.525297</td>\n",
              "      <td>23998</td>\n",
              "    </tr>\n",
              "    <tr>\n",
              "      <th>19856</th>\n",
              "      <td>19061.060622</td>\n",
              "      <td>14988</td>\n",
              "    </tr>\n",
              "  </tbody>\n",
              "</table>\n",
              "<p>19837 rows × 2 columns</p>\n",
              "</div>"
            ],
            "text/plain": [
              "       predicted_price  actual_price\n",
              "44099     22116.489148          9495\n",
              "16256     40394.245856         66991\n",
              "3583      13065.004313         14495\n",
              "79911     11363.653819         11900\n",
              "84745     12554.076448         20990\n",
              "...                ...           ...\n",
              "67078     16593.173168         11599\n",
              "74397     11708.656695         10300\n",
              "45823     19522.023262         11850\n",
              "44830     37452.525297         23998\n",
              "19856     19061.060622         14988\n",
              "\n",
              "[19837 rows x 2 columns]"
            ]
          },
          "metadata": {
            "tags": []
          },
          "execution_count": 12
        }
      ]
    },
    {
      "cell_type": "markdown",
      "metadata": {
        "id": "AJmYj-Ged7dT"
      },
      "source": [
        "##LinLin Function\n",
        "This cell defines the LinearLinear cost function. It checks if the residual is greater than 0. If yes, it multiplies the ratio of asymetry which represents the asymetric costs. "
      ]
    },
    {
      "cell_type": "code",
      "metadata": {
        "id": "DrnnXVi33EOU"
      },
      "source": [
        "def linlin(ratio, md, actual, prediction): \n",
        "    residual = ((prediction + md) - actual)\n",
        "    \n",
        "    if residual > 0: # Underprediction\n",
        "        actualCosts = abs(residual * ratio)\n",
        "    else:                   # Overprediction\n",
        "        actualCosts = abs(residual)    \n",
        "    return actualCosts"
      ],
      "execution_count": 13,
      "outputs": []
    },
    {
      "cell_type": "markdown",
      "metadata": {
        "id": "ys60SJnAeWDi"
      },
      "source": [
        "## Actual Costs Function\n",
        "This cell defines the function that calculates the actual costs. It uses the linlin function from the previous cell and applies it on our dataset with the actual and predicted price. Finally it uses mean() to calculate the average misprediction over all residuals."
      ]
    },
    {
      "cell_type": "code",
      "metadata": {
        "id": "ud8auPOWisdU"
      },
      "source": [
        "\n",
        "def aK(ratio, md):\n",
        "    \n",
        "    validate_apply[\"actualCosts\"] = validate_apply.apply(lambda x: linlin(ratio, md, x[\"actual_price\"], x[\"predicted_price\"]),axis=1)\n",
        "    \n",
        "    actualCosts = validate_apply[\"actualCosts\"].mean()\n",
        "    \n",
        "    return actualCosts"
      ],
      "execution_count": 14,
      "outputs": []
    },
    {
      "cell_type": "markdown",
      "metadata": {
        "id": "xKFxzrDaevWA"
      },
      "source": [
        "## Markdown Algorithm\n",
        "This cell is the implementation of the markdownalgorithm suggested by Gaurav Bansal."
      ]
    },
    {
      "cell_type": "code",
      "metadata": {
        "id": "7S_KSAtwis2i"
      },
      "source": [
        "def find_md(ratio):\n",
        "  md = 0\n",
        "  p = 1\n",
        "  s = 1\n",
        "\n",
        "  # This part determines d which defines the \"direction\" of our markdown\n",
        "  if aK(ratio, p) < aK(ratio, 0):\n",
        "   d = 1\n",
        "  else:\n",
        "   d = -1\n",
        "\n",
        "  md_prev = 0\n",
        "  md_next = md + s * d * p\n",
        "\n",
        "  while True:\n",
        "   s = 1\n",
        "   md = md_prev\n",
        "\n",
        "   while True:  \n",
        "      md_prev = md\n",
        "      md = md + s * d * p\n",
        "      s = s * 2\n",
        "      md_next = md + s * d * p\n",
        "      if aK(ratio, md_next) > aK(ratio, md):\n",
        "        break\n",
        "      #print(\"markdown is: \" + str(md))\n",
        "      #print(\"costs are: \" + str(aK(ratio, md)))\n",
        "   if s <= 2:\n",
        "     break\n",
        "  optimal_md = md\n",
        "  #print(\"The optimal markdown value is: \" + str(md))\n",
        "  return optimal_md"
      ],
      "execution_count": 33,
      "outputs": []
    },
    {
      "cell_type": "code",
      "metadata": {
        "colab": {
          "base_uri": "https://localhost:8080/"
        },
        "id": "t7CXNgT-fZRU",
        "outputId": "a951c393-2e52-49f5-fc45-5ae626e626fd"
      },
      "source": [
        "md_list = []\n",
        "ratio_list = []\n",
        "results = pd.DataFrame(columns=['Ratio','Markdown', 'Average Misprediction Costs', 'Average Misprediction Costs with md = 0'])\n",
        "\n",
        "for i in range(0, 11, 1):\n",
        "  ratio = 1 + (i/10)\n",
        "  md = find_md(ratio)\n",
        "  AMC = aK(ratio, md)\n",
        "  AMC_md0 = aK(ratio, 0)\n",
        "  md_list.append(md)\n",
        "  ratio_list.append(ratio)\n",
        "  results = results.append({'Ratio': ratio, 'Markdown': md, 'Average Misprediction Costs':AMC, 'Average Misprediction Costs with md = 0':AMC_md0 }, ignore_index=True)\n",
        "  print(\"ratio: \" + str(ratio) + \" markdown: \" + str(md) + \" the average misprediction costs are: \" + str(AMC) + \" The AMC for md = 0 are: \" + str(AMC_md0))"
      ],
      "execution_count": 37,
      "outputs": [
        {
          "output_type": "stream",
          "text": [
            "ratio: 1.0 markdown: -493 the average misprediction costs are: 3998.606597189818 The AMC for md = 0 are: 4018.3175658583746\n",
            "ratio: 1.1 markdown: -759 the average misprediction costs are: 4166.345080838971 The AMC for md = 0 are: 4218.388902253295\n",
            "ratio: 1.2 markdown: -1005 the average misprediction costs are: 4321.957867348092 The AMC for md = 0 are: 4418.4602386481865\n",
            "ratio: 1.3 markdown: -1237 the average misprediction costs are: 4466.742215777822 The AMC for md = 0 are: 4618.5315750430855\n",
            "ratio: 1.4 markdown: -1445 the average misprediction costs are: 4601.779516323907 The AMC for md = 0 are: 4818.602911438032\n",
            "ratio: 1.5 markdown: -1637 the average misprediction costs are: 4728.283815747048 The AMC for md = 0 are: 5018.674247832943\n",
            "ratio: 1.6 markdown: -1822 the average misprediction costs are: 4847.659605713495 The AMC for md = 0 are: 5218.745584227864\n",
            "ratio: 1.7 markdown: -1986 the average misprediction costs are: 4960.293495165443 The AMC for md = 0 are: 5418.81692062278\n",
            "ratio: 1.8 markdown: -2147 the average misprediction costs are: 5066.855420995785 The AMC for md = 0 are: 5618.888257017689\n",
            "ratio: 1.9 markdown: -2299 the average misprediction costs are: 5167.733055655724 The AMC for md = 0 are: 5818.959593412598\n",
            "ratio: 2.0 markdown: -2422 the average misprediction costs are: 5263.994585248029 The AMC for md = 0 are: 6019.030929807529\n"
          ],
          "name": "stdout"
        }
      ]
    },
    {
      "cell_type": "markdown",
      "metadata": {
        "id": "gFuMNNhwmDDH"
      },
      "source": [
        "## Test Part\n",
        "Now we test if the markdown also decreases the costs for the test set.\n"
      ]
    },
    {
      "cell_type": "code",
      "metadata": {
        "id": "Jy3amhlijD9V"
      },
      "source": [
        "test_apply = pd.DataFrame(columns = ['predicted_price', 'actual_price'])\n",
        "test_apply[\"predicted_price\"] = model.predict(X_test)\n",
        "test_apply[\"actual_price\"] = y_test"
      ],
      "execution_count": 21,
      "outputs": []
    },
    {
      "cell_type": "code",
      "metadata": {
        "colab": {
          "base_uri": "https://localhost:8080/",
          "height": 419
        },
        "id": "msjjV1y0iOUX",
        "outputId": "f65e4f62-be10-4e2b-989b-124300a50b1b"
      },
      "source": [
        "test_apply"
      ],
      "execution_count": 22,
      "outputs": [
        {
          "output_type": "execute_result",
          "data": {
            "text/html": [
              "<div>\n",
              "<style scoped>\n",
              "    .dataframe tbody tr th:only-of-type {\n",
              "        vertical-align: middle;\n",
              "    }\n",
              "\n",
              "    .dataframe tbody tr th {\n",
              "        vertical-align: top;\n",
              "    }\n",
              "\n",
              "    .dataframe thead th {\n",
              "        text-align: right;\n",
              "    }\n",
              "</style>\n",
              "<table border=\"1\" class=\"dataframe\">\n",
              "  <thead>\n",
              "    <tr style=\"text-align: right;\">\n",
              "      <th></th>\n",
              "      <th>predicted_price</th>\n",
              "      <th>actual_price</th>\n",
              "    </tr>\n",
              "  </thead>\n",
              "  <tbody>\n",
              "    <tr>\n",
              "      <th>42974</th>\n",
              "      <td>18062.439903</td>\n",
              "      <td>12000</td>\n",
              "    </tr>\n",
              "    <tr>\n",
              "      <th>70072</th>\n",
              "      <td>8784.530386</td>\n",
              "      <td>8369</td>\n",
              "    </tr>\n",
              "    <tr>\n",
              "      <th>41811</th>\n",
              "      <td>20073.266382</td>\n",
              "      <td>22995</td>\n",
              "    </tr>\n",
              "    <tr>\n",
              "      <th>51298</th>\n",
              "      <td>16740.994415</td>\n",
              "      <td>20200</td>\n",
              "    </tr>\n",
              "    <tr>\n",
              "      <th>50333</th>\n",
              "      <td>20794.907281</td>\n",
              "      <td>13795</td>\n",
              "    </tr>\n",
              "    <tr>\n",
              "      <th>...</th>\n",
              "      <td>...</td>\n",
              "      <td>...</td>\n",
              "    </tr>\n",
              "    <tr>\n",
              "      <th>6265</th>\n",
              "      <td>27820.892003</td>\n",
              "      <td>32950</td>\n",
              "    </tr>\n",
              "    <tr>\n",
              "      <th>54886</th>\n",
              "      <td>24857.190044</td>\n",
              "      <td>42798</td>\n",
              "    </tr>\n",
              "    <tr>\n",
              "      <th>76820</th>\n",
              "      <td>8177.451793</td>\n",
              "      <td>6390</td>\n",
              "    </tr>\n",
              "    <tr>\n",
              "      <th>860</th>\n",
              "      <td>13057.288507</td>\n",
              "      <td>20990</td>\n",
              "    </tr>\n",
              "    <tr>\n",
              "      <th>15795</th>\n",
              "      <td>27148.370841</td>\n",
              "      <td>30495</td>\n",
              "    </tr>\n",
              "  </tbody>\n",
              "</table>\n",
              "<p>19838 rows × 2 columns</p>\n",
              "</div>"
            ],
            "text/plain": [
              "       predicted_price  actual_price\n",
              "42974     18062.439903         12000\n",
              "70072      8784.530386          8369\n",
              "41811     20073.266382         22995\n",
              "51298     16740.994415         20200\n",
              "50333     20794.907281         13795\n",
              "...                ...           ...\n",
              "6265      27820.892003         32950\n",
              "54886     24857.190044         42798\n",
              "76820      8177.451793          6390\n",
              "860       13057.288507         20990\n",
              "15795     27148.370841         30495\n",
              "\n",
              "[19838 rows x 2 columns]"
            ]
          },
          "metadata": {
            "tags": []
          },
          "execution_count": 22
        }
      ]
    },
    {
      "cell_type": "code",
      "metadata": {
        "id": "hiJPJvKEfUy_"
      },
      "source": [
        "def aK_test(ratio, md):\n",
        "    \n",
        "    test_apply[\"actualCosts\"] = test_apply.apply(lambda x: linlin(ratio, md, x[\"actual_price\"], x[\"predicted_price\"]),axis=1)\n",
        "    \n",
        "    actualCosts = test_apply[\"actualCosts\"].mean()\n",
        "    \n",
        "    return actualCosts"
      ],
      "execution_count": 23,
      "outputs": []
    },
    {
      "cell_type": "code",
      "metadata": {
        "colab": {
          "base_uri": "https://localhost:8080/"
        },
        "id": "z6CMfHbnjaKZ",
        "outputId": "70df558b-fa1a-4e9a-b23d-d780c60c2fe0"
      },
      "source": [
        "results_testset = pd.DataFrame(columns=['Ratio','Markdown', 'Average Misprediction Costs', 'Average Misprediction Costs with md = 0'])\n",
        "\n",
        "for r, m in zip(ratio_list, md_list):\n",
        "  \n",
        "  AMC_testset = aK_test(r, m)\n",
        "  results_testset = results_testset.append({'Ratio': r, 'Markdown': m, 'Average Misprediction Costs':AMC_testset, 'Average Misprediction Costs with md = 0':aK_test(r, 0) }, ignore_index=True)\n",
        "  print(\"ratio: \" + str(r) + \" markdown: \" + str(m) + \" the average misprediction costs is: \" + str(AMC_testset) + \" The AMC for md = 0 is: \" + str(aK_test(r, 0)))"
      ],
      "execution_count": 42,
      "outputs": [
        {
          "output_type": "stream",
          "text": [
            "ratio: 1.0 markdown: -493 the average misprediction costs is: 4074.430604862563 The AMC for md = 0 is: 4095.8300414757196\n",
            "ratio: 1.1 markdown: -759 the average misprediction costs is: 4246.029866844886 The AMC for md = 0 is: 4301.555111830049\n",
            "ratio: 1.2 markdown: -1005 the average misprediction costs is: 4405.390689294911 The AMC for md = 0 is: 4507.280182184372\n",
            "ratio: 1.3 markdown: -1237 the average misprediction costs is: 4553.6460356428615 The AMC for md = 0 is: 4713.005252538699\n",
            "ratio: 1.4 markdown: -1445 the average misprediction costs is: 4692.020878891747 The AMC for md = 0 is: 4918.730322892995\n",
            "ratio: 1.5 markdown: -1637 the average misprediction costs is: 4821.727494251072 The AMC for md = 0 is: 5124.455393247337\n",
            "ratio: 1.6 markdown: -1822 the average misprediction costs is: 4943.8265964114435 The AMC for md = 0 is: 5330.1804636016495\n",
            "ratio: 1.7 markdown: -1986 the average misprediction costs is: 5059.15609669538 The AMC for md = 0 is: 5535.905533955988\n",
            "ratio: 1.8 markdown: -2147 the average misprediction costs is: 5168.076788196793 The AMC for md = 0 is: 5741.630604310299\n",
            "ratio: 1.9 markdown: -2299 the average misprediction costs is: 5272.346979739907 The AMC for md = 0 is: 5947.355674664615\n",
            "ratio: 2.0 markdown: -2422 the average misprediction costs is: 5372.116993168997 The AMC for md = 0 is: 6153.080745018929\n"
          ],
          "name": "stdout"
        }
      ]
    },
    {
      "cell_type": "code",
      "metadata": {
        "colab": {
          "base_uri": "https://localhost:8080/",
          "height": 390
        },
        "id": "QYAAFR4zSsNM",
        "outputId": "9603adad-e8dc-4a8a-bd60-5e567ba3f2bf"
      },
      "source": [
        "results_testset\n"
      ],
      "execution_count": 45,
      "outputs": [
        {
          "output_type": "execute_result",
          "data": {
            "text/html": [
              "<div>\n",
              "<style scoped>\n",
              "    .dataframe tbody tr th:only-of-type {\n",
              "        vertical-align: middle;\n",
              "    }\n",
              "\n",
              "    .dataframe tbody tr th {\n",
              "        vertical-align: top;\n",
              "    }\n",
              "\n",
              "    .dataframe thead th {\n",
              "        text-align: right;\n",
              "    }\n",
              "</style>\n",
              "<table border=\"1\" class=\"dataframe\">\n",
              "  <thead>\n",
              "    <tr style=\"text-align: right;\">\n",
              "      <th></th>\n",
              "      <th>Ratio</th>\n",
              "      <th>Markdown</th>\n",
              "      <th>Average Misprediction Costs</th>\n",
              "      <th>Average Misprediction Costs with md = 0</th>\n",
              "    </tr>\n",
              "  </thead>\n",
              "  <tbody>\n",
              "    <tr>\n",
              "      <th>0</th>\n",
              "      <td>1.0</td>\n",
              "      <td>-493.0</td>\n",
              "      <td>4074.430605</td>\n",
              "      <td>4095.830041</td>\n",
              "    </tr>\n",
              "    <tr>\n",
              "      <th>1</th>\n",
              "      <td>1.1</td>\n",
              "      <td>-759.0</td>\n",
              "      <td>4246.029867</td>\n",
              "      <td>4301.555112</td>\n",
              "    </tr>\n",
              "    <tr>\n",
              "      <th>2</th>\n",
              "      <td>1.2</td>\n",
              "      <td>-1005.0</td>\n",
              "      <td>4405.390689</td>\n",
              "      <td>4507.280182</td>\n",
              "    </tr>\n",
              "    <tr>\n",
              "      <th>3</th>\n",
              "      <td>1.3</td>\n",
              "      <td>-1237.0</td>\n",
              "      <td>4553.646036</td>\n",
              "      <td>4713.005253</td>\n",
              "    </tr>\n",
              "    <tr>\n",
              "      <th>4</th>\n",
              "      <td>1.4</td>\n",
              "      <td>-1445.0</td>\n",
              "      <td>4692.020879</td>\n",
              "      <td>4918.730323</td>\n",
              "    </tr>\n",
              "    <tr>\n",
              "      <th>5</th>\n",
              "      <td>1.5</td>\n",
              "      <td>-1637.0</td>\n",
              "      <td>4821.727494</td>\n",
              "      <td>5124.455393</td>\n",
              "    </tr>\n",
              "    <tr>\n",
              "      <th>6</th>\n",
              "      <td>1.6</td>\n",
              "      <td>-1822.0</td>\n",
              "      <td>4943.826596</td>\n",
              "      <td>5330.180464</td>\n",
              "    </tr>\n",
              "    <tr>\n",
              "      <th>7</th>\n",
              "      <td>1.7</td>\n",
              "      <td>-1986.0</td>\n",
              "      <td>5059.156097</td>\n",
              "      <td>5535.905534</td>\n",
              "    </tr>\n",
              "    <tr>\n",
              "      <th>8</th>\n",
              "      <td>1.8</td>\n",
              "      <td>-2147.0</td>\n",
              "      <td>5168.076788</td>\n",
              "      <td>5741.630604</td>\n",
              "    </tr>\n",
              "    <tr>\n",
              "      <th>9</th>\n",
              "      <td>1.9</td>\n",
              "      <td>-2299.0</td>\n",
              "      <td>5272.346980</td>\n",
              "      <td>5947.355675</td>\n",
              "    </tr>\n",
              "    <tr>\n",
              "      <th>10</th>\n",
              "      <td>2.0</td>\n",
              "      <td>-2422.0</td>\n",
              "      <td>5372.116993</td>\n",
              "      <td>6153.080745</td>\n",
              "    </tr>\n",
              "  </tbody>\n",
              "</table>\n",
              "</div>"
            ],
            "text/plain": [
              "    Ratio  ...  Average Misprediction Costs with md = 0\n",
              "0     1.0  ...                              4095.830041\n",
              "1     1.1  ...                              4301.555112\n",
              "2     1.2  ...                              4507.280182\n",
              "3     1.3  ...                              4713.005253\n",
              "4     1.4  ...                              4918.730323\n",
              "5     1.5  ...                              5124.455393\n",
              "6     1.6  ...                              5330.180464\n",
              "7     1.7  ...                              5535.905534\n",
              "8     1.8  ...                              5741.630604\n",
              "9     1.9  ...                              5947.355675\n",
              "10    2.0  ...                              6153.080745\n",
              "\n",
              "[11 rows x 4 columns]"
            ]
          },
          "metadata": {
            "tags": []
          },
          "execution_count": 45
        }
      ]
    },
    {
      "cell_type": "code",
      "metadata": {
        "id": "aoXneryh1gI_"
      },
      "source": [
        ""
      ],
      "execution_count": null,
      "outputs": []
    }
  ]
}